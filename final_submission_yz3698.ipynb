{
 "cells": [
  {
   "cell_type": "markdown",
   "metadata": {},
   "source": [
    "- Yanxin Zhang\n",
    "- uni: yz3698\n",
    "- e-mail:yz3698@columbia.edu\n",
    "\n",
    "\n",
    "#### This report is composed of 8 parts:\n",
    "- 1. Introduction\n",
    "- 2. Data preparation\n",
    "- 3. Feature Engineering (for content-based model)\n",
    "- 4. First layer model(collaborative filtering) hyperparameter tuning and evaluation\n",
    "- 5. Second layer model (Content-based) hyperparameter tuning and evaluation\n",
    "- 6. The hybrid model hyperparameter tuning and evaluation (including comparation with benchmark and simple collaborative filtering model)\n",
    "- 7. The complete model for prediction and model exploration\n",
    "- 8. summary and reflection\n",
    "\n",
    "# 1. Introduction\n",
    "This report is aimed at building a movie recommendation system that would meet the following three goals：\n",
    "\n",
    "- 1. Recommend users with movies that best align with their taste \n",
    "- 2. Recommend users a set of movies that are diversified, that is, we should not always recommend user with movies that are of the same genres. The number of different genres we recommend to a user should be too small.\n",
    "- 3. Take ecosystem heath into consideration. We should not always recommend users with popular movies and mainstream genres. The movies that are less popular and genres that are less common should also take a fraction.\n",
    "\n",
    "The system is composed of three parts:\n",
    "- 1. Model-based collaborative filtering to generate initial candidates.\n",
    "- 2. Content-based model together with the predicted rating of the collaborative filtering model to rerank the candidates\n",
    "     - The content-based model utilized two types of features:\n",
    "          - Movie features including movie genres and tags\n",
    "          - User profile features based on user's past behavior.\n",
    "- 3. Business rules\n",
    "     - including diversity and ecosystem heath adjustment\n",
    " \n",
    "\n",
    "To better align with the business nature, we keep the most recent 5 records of each user as the validation and test set. "
   ]
  },
  {
   "cell_type": "markdown",
   "metadata": {},
   "source": [
    "# 2. Data Preparation"
   ]
  },
  {
   "cell_type": "code",
   "execution_count": 1,
   "metadata": {},
   "outputs": [],
   "source": [
    "import matplotlib.pyplot as plt\n",
    "import time\n",
    "import pandas as pd\n",
    "import numpy as np\n",
    "import pickle\n",
    "import warnings\n",
    "import gc\n",
    "from sklearn.preprocessing import StandardScaler\n",
    "from xgboost import XGBRegressor\n",
    "\n",
    "warnings.filterwarnings('ignore')\n",
    "np.random.seed(43)"
   ]
  },
  {
   "cell_type": "code",
   "execution_count": 2,
   "metadata": {},
   "outputs": [],
   "source": [
    "path='ml-latest/'\n",
    "rating=pd.read_csv(path+\"ratings.csv\")\n",
    "\n",
    "movie_tag=pd.read_csv(path+\"genome-scores.csv\")\n",
    "movie_tag=movie_tag.pivot(index=\"movieId\", columns=\"tagId\",values=\"relevance\")\n",
    "\n",
    "genres=pd.read_csv(path+\"movies.csv\")\n",
    "genres_list=['Action','Adventure','Animation',\n",
    "            'Children','Comedy','Crime',\n",
    "            'Documentary','Drama','Fantasy','Film-Noir',\n",
    "            'Horror','Musical','Mystery','Romance',\n",
    "            'Sci-Fi','Thriller','War','Western']\n",
    "for g in genres_list:\n",
    "    genres[g]=genres[\"genres\"].str.contains(g)*1\n",
    "    \n"
   ]
  },
  {
   "cell_type": "code",
   "execution_count": 3,
   "metadata": {},
   "outputs": [
    {
     "data": {
      "text/plain": [
       "(13176, 1128)"
      ]
     },
     "execution_count": 3,
     "metadata": {},
     "output_type": "execute_result"
    }
   ],
   "source": [
    "movie_tag.shape"
   ]
  },
  {
   "cell_type": "markdown",
   "metadata": {},
   "source": [
    "#### Data movie tags has 1128 dimensions of features, which is too much for the later feature engineering and content-based model training on the local machine. Therefore, a linear PCA was conducted to reduce dimensions. \n",
    "(have also tried autoencoder and kernal PCA. However autoencoder tend to overfit on this movie dataset. And kernal PCA take too long to run on the local machine. Code is appended in the appendix.)"
   ]
  },
  {
   "cell_type": "code",
   "execution_count": 4,
   "metadata": {},
   "outputs": [],
   "source": [
    "from sklearn.preprocessing import StandardScaler\n",
    "from sklearn.decomposition import PCA,KernelPCA\n",
    "\n",
    "x = movie_tag.copy()\n",
    "x = StandardScaler().fit_transform(x)"
   ]
  },
  {
   "cell_type": "code",
   "execution_count": 112,
   "metadata": {},
   "outputs": [
    {
     "data": {
      "image/png": "[encoded data removed]",
      "text/plain": [
       "<Figure size 432x288 with 1 Axes>"
      ]
     },
     "metadata": {
      "needs_background": "light"
     },
     "output_type": "display_data"
    }
   ],
   "source": [
    "dic={}\n",
    "for i in np.arange(10,1146,50):\n",
    "    pca = PCA(n_components=i)\n",
    "    #kpca = KernelPCA(n_components=i,kernel=\"rbf\")\n",
    "    principalComponents = pca.fit_transform(x)\n",
    "    dic[i]=sum(pca.explained_variance_ratio_)\n",
    "\n",
    "pca_df=pd.DataFrame(dic,index=[0]).T.reset_index()\n",
    "plt.plot(pca_df['index'],pca_df[0])\n",
    "plt.show()"
   ]
  },
  {
   "cell_type": "markdown",
   "metadata": {},
   "source": [
    "- Choose 200 components, which keeps 77% of the variance of the original data. "
   ]
  },
  {
   "cell_type": "code",
   "execution_count": 5,
   "metadata": {
    "scrolled": true
   },
   "outputs": [
    {
     "data": {
      "text/plain": [
       "0.7728073846159879"
      ]
     },
     "execution_count": 5,
     "metadata": {},
     "output_type": "execute_result"
    }
   ],
   "source": [
    "pca = PCA(n_components=200)\n",
    "principalComponents = pca.fit_transform(x)\n",
    "movie_tags_pca=pd.DataFrame(principalComponents,index=movie_tag.index).reset_index()\n",
    "sum(pca.explained_variance_ratio_)"
   ]
  },
  {
   "cell_type": "code",
   "execution_count": 6,
   "metadata": {},
   "outputs": [],
   "source": [
    "def sample_dataset(data,item_frac,user_frac,movie_bar=0,user_bar=0):\n",
    "    import random\n",
    "    u_cnt=data.groupby(\"movieId\").count()[\"userId\"].sample(frac=item_frac)\n",
    "    qualified_movies=u_cnt[u_cnt>=movie_bar].index.values\n",
    "    data=data[data.movieId.isin(qualified_movies)]\n",
    "\n",
    "    m_cnt=data.groupby(\"userId\").count()[\"movieId\"].sample(frac=user_frac)\n",
    "    qualified_users=m_cnt[m_cnt>=user_bar].index.values\n",
    "    \n",
    "    sample=data[data.userId.isin(qualified_users)]\n",
    "    print(\"unique users: \",len(qualified_users),\"unique movies: \",sample['movieId'].unique().shape[0])\n",
    "    return sample"
   ]
  },
  {
   "cell_type": "markdown",
   "metadata": {},
   "source": [
    "# 3. Feature Engineering \n",
    "(for content-based model)\n",
    "### 3.1 Movie features\n",
    "Two types of features\n",
    "- Genres\n",
    "- Tags"
   ]
  },
  {
   "cell_type": "code",
   "execution_count": 7,
   "metadata": {},
   "outputs": [],
   "source": [
    "movie_features=genres\n",
    "def extract_year(x):\n",
    "    x=x.rsplit('(',1)[-1].replace(')','').replace('2006–2007','2006')\n",
    "    try:\n",
    "        x=float(x)\n",
    "    except:\n",
    "        x=np.nan\n",
    "    return x\n",
    "\n",
    "movie_features['year']=movie_features['title'].apply(lambda x:extract_year(x))\n",
    "movie_features=movie_features.merge(movie_tags_pca,on='movieId',how='left')"
   ]
  },
  {
   "cell_type": "code",
   "execution_count": 8,
   "metadata": {},
   "outputs": [
    {
     "name": "stdout",
     "output_type": "stream",
     "text": [
      "unique users:  23583 unique movies:  1670\n"
     ]
    }
   ],
   "source": [
    "np.random.seed(43)\n",
    "df_sub = sample_dataset(rating,user_frac=0.35,item_frac=0.04,user_bar=6) \n",
    "\n",
    "## merge with movie features\n",
    "df_sub=df_sub.merge(movie_features,on='movieId',how='left')\n",
    "df_sub.columns=[str(i) for i in df_sub.columns ]\n",
    "\n",
    "features=genres_list.copy()\n",
    "features.extend(list(np.arange(200)))\n",
    "features=[str(i) for i in features]"
   ]
  },
  {
   "cell_type": "markdown",
   "metadata": {},
   "source": [
    "### 3.2Construct User Profile\n",
    "In this part we construct user profiles based on their past rating behavior.\n",
    "- First, all their past rating would be deducted with 3.5, the assumption is that movies with ratings<3.5 is the movie that the user doesn't like, by -3.5 it will have a negative sign. Movies with ratings>3.5 is the movie that the user like, after -3.5 it will still have a possitive sign.\n",
    "- Second, mutiply the rescaled rating with the the features of the movie (for example, genres). Therefore, if a user have a negative score on that movie, the user would also have a negative score on the genre that the movie belong to.\n",
    "- Therefore, a user that have mutiple movie rating records will also have mutiple 'rating' records on the genres and tags those movies belong to. The users's current profile would be a weighted average of their past 'ratings' on the tags and genres. The weights of past 'rating' will decay exponentially. The more recent records will get higher weight than old records.\n",
    "- Finally, some genres have more movies compared with others, therefore these genres also have more ratings compared with other genres. We deal with this influence by introducing TFIDF technique when construct user profile. The assumption here is that the files movies.csv contains all the movies available that the users can be shown. So we could calculate document frequency based on this file.\n",
    "\n",
    "\n",
    "##### As a summray, the user profile is composed of 3 parts:\n",
    "- Rating on the movie feature\n",
    "- Time Weight\n",
    "- TFIDF Weight (for genres)"
   ]
  },
  {
   "cell_type": "code",
   "execution_count": 10,
   "metadata": {},
   "outputs": [],
   "source": [
    "df_sub['rating_rescale']=df_sub['rating'].apply(lambda x:x-3.5)\n",
    "# all the past rating would be deducted with 3.5\n",
    "\n",
    "user_profile_features=[str(i)+'_user' for i in features]\n",
    "\n",
    "df_sub[user_profile_features]=df_sub[features].mul(df_sub['rating_rescale'],axis=\"index\")\n",
    "# mutiply the rescaled rating with the the features of the movie\n",
    "\n",
    "user_genres_lst=[str(i)+'_user' for i in genres_list]\n",
    "\n",
    "emw_lst=user_profile_features.copy()\n",
    "emw_lst.append('rate_time') # list for construct user profile\n",
    "\n",
    "TFIDF_w_factors=1/movie_features[genres_list].sum() # calculate doucument frequency for each genre"
   ]
  },
  {
   "cell_type": "code",
   "execution_count": 38,
   "metadata": {},
   "outputs": [
    {
     "name": "stdout",
     "output_type": "stream",
     "text": [
      "56.85353033145269\n"
     ]
    }
   ],
   "source": [
    "df_sub['rate_time']=pd.to_datetime(df_sub['timestamp'],unit='s')\n",
    "\n",
    "\n",
    "def construct_user_profile(df,halflife_time):\n",
    "    df_u=df.groupby('userId')[emw_lst]\\\n",
    "           .apply(lambda x: x.ewm(halflife=halflife_time,times=x['rate_time']).mean().shift(1).fillna(0))\n",
    "    #The users's current profile would be a weighted average of their past 'ratings' on the tags and genres. \n",
    "    #The weights of past 'rating' will decay exponentially. \n",
    "    # here we use halflife to control the speed of decay.\n",
    "    # half life: the time unit (str or timedelta) over which an observation decays to half its value.\n",
    "    \n",
    "    for g in genres_list:\n",
    "        df_u[g+'_user']=df_u[g+'_user']*TFIDF_w_factors[g] # weight by document frequency\n",
    "    df[user_profile_features]=df_u.reset_index()[user_profile_features]\n",
    "    return df\n",
    "\n",
    "# Half life is a parameter that we could tune\n",
    "# As the calculation will take a long time, we only test two halflife values, 30 days and 90 days here.\n",
    "halflife_lst=[30,90]\n",
    "halflife_lst=[str(i)+' days' for i in halflife_lst]\n",
    "\n",
    "start=time.time()\n",
    "\n",
    "df_sub_30=construct_user_profile(df_sub,halflife_lst[0])\n",
    "df_sub_30.to_csv('df_sub_30.csv')\n",
    "\n",
    "df_sub_90=construct_user_profile(df_sub,halflife_lst[1])\n",
    "df_sub_90.to_csv('df_sub_90.csv')\n",
    "\n",
    "end=time.time()\n",
    "print((end-start)/60)"
   ]
  },
  {
   "cell_type": "code",
   "execution_count": 12,
   "metadata": {},
   "outputs": [],
   "source": [
    "#df_sub_90=pd.read_csv('df_sub_90.csv')"
   ]
  },
  {
   "cell_type": "code",
   "execution_count": 13,
   "metadata": {},
   "outputs": [],
   "source": [
    "all_features=user_profile_features.copy()\n",
    "all_features.extend([str(i) for i in features])\n",
    "all_features_std=[str(i)+'_std' for i in all_features]"
   ]
  },
  {
   "cell_type": "code",
   "execution_count": 15,
   "metadata": {},
   "outputs": [],
   "source": [
    "# standardize the features\n",
    "df_sub_lst=[df_sub_30,df_sub_90]\n",
    "i=0\n",
    "for df in df_sub_lst:\n",
    "    scaler = StandardScaler().fit(df[all_features].fillna(0))\n",
    "    pickle.dump(scaler, open(halflife_lst[i]+'_scaler', 'wb'))\n",
    "    x=scaler.transform(df[all_features].fillna(0))\n",
    "    df[all_features_std]=x\n",
    "    i=i+1\n",
    "    "
   ]
  },
  {
   "cell_type": "code",
   "execution_count": 16,
   "metadata": {},
   "outputs": [],
   "source": [
    "#use the most recent 5 records of each user as the validation set and test set\n",
    "def build_crossvalidated_dataset(data,threshold=5):\n",
    "    from sklearn.model_selection import train_test_split\n",
    "\n",
    "    data['sort']=data.groupby(\"userId\")['timestamp'].rank(method='dense',ascending=0)\n",
    "    \n",
    "    train=data[data['sort'].apply(lambda x:x>=threshold)]\n",
    "    valid_test=data[data['sort'].apply(lambda x:x<=threshold)]\n",
    "    valid,test=train_test_split(valid_test,test_size=0.50)\n",
    "    \n",
    "    return train,valid,test"
   ]
  },
  {
   "cell_type": "markdown",
   "metadata": {},
   "source": [
    "# 4. Layer 1: Model-based collaborative filtering: MF\n",
    "(reuse of hw2)\n",
    "#### This layer will generate candidates for next model.\n",
    "### 4.1 "
   ]
  },
  {
   "cell_type": "code",
   "execution_count": 17,
   "metadata": {},
   "outputs": [],
   "source": [
    "import pyspark\n",
    "from pyspark.sql import SparkSession\n",
    "spark = SparkSession.builder.appName(\"final\").getOrCreate()"
   ]
  },
  {
   "cell_type": "code",
   "execution_count": 18,
   "metadata": {},
   "outputs": [],
   "source": [
    "np.random.seed(43)\n",
    "train,valid,test= build_crossvalidated_dataset(df_sub,threshold=5)\n",
    "rating_col=['userId', 'movieId', 'rating']\n",
    "train_sc=spark.createDataFrame(train[rating_col].values.tolist(), rating_col)\n",
    "valid_sc=spark.createDataFrame(valid[rating_col].values.tolist(), rating_col)\n",
    "test_sc=spark.createDataFrame(test[rating_col].values.tolist(),rating_col)"
   ]
  },
  {
   "cell_type": "code",
   "execution_count": 19,
   "metadata": {},
   "outputs": [],
   "source": [
    "def label(x):\n",
    "    # Here we assumed that the movies that the user rated >=4 is relevent and otherwise irrelevent\n",
    "    if x<4:\n",
    "        return 0\n",
    "    if x>=4:\n",
    "        return 1\n",
    "\n",
    "def evaluation_acc(data,prediction,label,predicted_label):\n",
    "    from sklearn.metrics import mean_squared_error, ndcg_score,roc_curve,auc\n",
    "    mse=mean_squared_error(data,prediction)#primary metric\n",
    "    ndcg=ndcg_score(label.values.reshape(1,-1),prediction.values.reshape(1,-1))#secondary metric\n",
    "    return mse,ndcg\n",
    "\n",
    "def train_and_eval_mf(trainset,testset,rank,maxIter,regParam):\n",
    "    from pyspark.ml.recommendation import ALS\n",
    "    als = ALS(userCol=\"userId\", itemCol=\"movieId\", ratingCol=\"rating\",nonnegative=True,\n",
    "              rank=rank, \n",
    "              maxIter=maxIter, regParam=regParam, \n",
    "              coldStartStrategy=\"drop\",seed=43)\n",
    "    mf_model = als.fit(trainset)\n",
    "    #print(testset.toPandas().shape)\n",
    "    df_pred = mf_model.transform(testset).toPandas().rename(columns={\"rating\":\"actual_rating\"})\n",
    "    #print(df_pred.shape)\n",
    "    df_pred=df_pred.rename(columns={\"rating\":\"actual_rating\"})\n",
    "    df_pred[\"label\"]=df_pred[\"actual_rating\"].apply(lambda x:label(x))\n",
    "    df_pred[\"label_predicted\"]=df_pred[\"prediction\"].apply(lambda x:label(x))\n",
    "    mse,ndcg=evaluation_acc(df_pred[\"actual_rating\"],df_pred[\"prediction\"],df_pred[\"label\"],df_pred[\"label_predicted\"])\n",
    "    return mse,ndcg,df_pred,mf_model"
   ]
  },
  {
   "cell_type": "code",
   "execution_count": 20,
   "metadata": {},
   "outputs": [
    {
     "data": {
      "text/html": [
       "<div>\n",
       "<style scoped>\n",
       "    .dataframe tbody tr th:only-of-type {\n",
       "        vertical-align: middle;\n",
       "    }\n",
       "\n",
       "    .dataframe tbody tr th {\n",
       "        vertical-align: top;\n",
       "    }\n",
       "\n",
       "    .dataframe thead th {\n",
       "        text-align: right;\n",
       "    }\n",
       "</style>\n",
       "<table border=\"1\" class=\"dataframe\">\n",
       "  <thead>\n",
       "    <tr style=\"text-align: right;\">\n",
       "      <th></th>\n",
       "      <th>rank</th>\n",
       "      <th>regParam</th>\n",
       "      <th>mse</th>\n",
       "      <th>ndcg</th>\n",
       "    </tr>\n",
       "  </thead>\n",
       "  <tbody>\n",
       "    <tr>\n",
       "      <th>0</th>\n",
       "      <td>10</td>\n",
       "      <td>0.2</td>\n",
       "      <td>0.804117</td>\n",
       "      <td>0.973765</td>\n",
       "    </tr>\n",
       "    <tr>\n",
       "      <th>0</th>\n",
       "      <td>20</td>\n",
       "      <td>0.2</td>\n",
       "      <td>0.814441</td>\n",
       "      <td>0.974335</td>\n",
       "    </tr>\n",
       "    <tr>\n",
       "      <th>0</th>\n",
       "      <td>15</td>\n",
       "      <td>0.2</td>\n",
       "      <td>0.814783</td>\n",
       "      <td>0.974321</td>\n",
       "    </tr>\n",
       "    <tr>\n",
       "      <th>0</th>\n",
       "      <td>5</td>\n",
       "      <td>0.2</td>\n",
       "      <td>0.825055</td>\n",
       "      <td>0.972525</td>\n",
       "    </tr>\n",
       "    <tr>\n",
       "      <th>0</th>\n",
       "      <td>50</td>\n",
       "      <td>0.2</td>\n",
       "      <td>0.831231</td>\n",
       "      <td>0.974535</td>\n",
       "    </tr>\n",
       "  </tbody>\n",
       "</table>\n",
       "</div>"
      ],
      "text/plain": [
       "   rank  regParam       mse      ndcg\n",
       "0    10       0.2  0.804117  0.973765\n",
       "0    20       0.2  0.814441  0.974335\n",
       "0    15       0.2  0.814783  0.974321\n",
       "0     5       0.2  0.825055  0.972525\n",
       "0    50       0.2  0.831231  0.974535"
      ]
     },
     "execution_count": 20,
     "metadata": {},
     "output_type": "execute_result"
    }
   ],
   "source": [
    "## Tune hyperparameters:\n",
    "## Rank: the number of latent factors in the model\n",
    "## regParam:the regularization parameter in ALS\n",
    "rpt_mf=pd.DataFrame()\n",
    "rank_list=[5,10,15,20,30,50]\n",
    "regParam_list=[0.01,0.1,0.2,0.3,0.4,0.5]\n",
    "for r in rank_list:\n",
    "    for l in regParam_list:\n",
    "        mse,ndcg,auc,tpr,df_pred,mf_model=train_and_eval_mf(train_sc,valid_sc,rank=r,maxIter=5,regParam=l)\n",
    "        dic={\"rank\":r,\"regParam\":l,\"mse\":mse,\"ndcg\":ndcg}\n",
    "        line=pd.DataFrame(dic,index=[0])\n",
    "        rpt_mf=rpt_mf.append(line)\n",
    "rpt_mf.sort_values(by=\"mse\").head()"
   ]
  },
  {
   "cell_type": "markdown",
   "metadata": {},
   "source": [
    "- Therefore, the optimal params set is rank=10, regParam=0.2.The charts below show how the metrics change as a function of these hyperparameters"
   ]
  },
  {
   "cell_type": "code",
   "execution_count": 20,
   "metadata": {},
   "outputs": [],
   "source": [
    "mse,ndcg,df_pred_mf,mf_model=train_and_eval_mf(train_sc,valid_sc,rank=10,maxIter=5,regParam=0.2)"
   ]
  },
  {
   "cell_type": "code",
   "execution_count": 97,
   "metadata": {},
   "outputs": [],
   "source": [
    "mf_model.save(\"mf_model\")"
   ]
  },
  {
   "cell_type": "markdown",
   "metadata": {},
   "source": [
    "## 4.2 Evaluate model performance on different user segments and different movies\n",
    "- Compare how the matrix factorization model performs on users that have less rating history and users that have more rating history\n",
    "- Compare how the matrix factorization model performs on movies that have less rating records and movies that have more rating records."
   ]
  },
  {
   "cell_type": "code",
   "execution_count": 38,
   "metadata": {},
   "outputs": [
    {
     "data": {
      "text/plain": [
       "count    23501.000000\n",
       "mean        12.791966\n",
       "std         15.997481\n",
       "min          1.000000\n",
       "25%          4.000000\n",
       "50%          7.000000\n",
       "75%         16.000000\n",
       "max        337.000000\n",
       "Name: movieId, dtype: float64"
      ]
     },
     "execution_count": 38,
     "metadata": {},
     "output_type": "execute_result"
    }
   ],
   "source": [
    "cnt=train.groupby('userId').count()['movieId']\n",
    "cnt.describe()\n",
    "# Show the distribution of user rating records counts in the training set"
   ]
  },
  {
   "cell_type": "code",
   "execution_count": 40,
   "metadata": {},
   "outputs": [],
   "source": [
    "less_than_5=cnt[cnt<5].index.values\n",
    "more_than_5=cnt[cnt>=5].index.values\n",
    "df_pred_less_than_5_mf=df_pred_mf[df_pred_mf['userId'].isin(less_than_5)]\n",
    "df_pred_more_than_5_mf=df_pred_mf[df_pred_mf['userId'].isin(more_than_5)]\n",
    "table_mf=pd.DataFrame()\n",
    "mse,ndcg=evaluation_acc(df_pred_less_than_5_mf[\"actual_rating\"],df_pred_less_than_5_mf[\"prediction\"],df_pred_less_than_5_mf[\"label\"],df_pred_less_than_5_mf[\"label_predicted\"])\n",
    "table_mf=table_mf.append(pd.DataFrame(('less than 5',mse,ndcg),index=['user_group','mse','ndcg']).T)\n",
    "mse,ndcg=evaluation_acc(df_pred_more_than_5_mf[\"actual_rating\"],df_pred_more_than_5_mf[\"prediction\"],df_pred_more_than_5_mf[\"label\"],df_pred_more_than_5_mf[\"label_predicted\"])\n",
    "table_mf=table_mf.append(pd.DataFrame(('more than 5',mse,ndcg),index=['user_group','mse','ndcg']).T)"
   ]
  },
  {
   "cell_type": "code",
   "execution_count": 41,
   "metadata": {},
   "outputs": [
    {
     "data": {
      "text/html": [
       "<div>\n",
       "<style scoped>\n",
       "    .dataframe tbody tr th:only-of-type {\n",
       "        vertical-align: middle;\n",
       "    }\n",
       "\n",
       "    .dataframe tbody tr th {\n",
       "        vertical-align: top;\n",
       "    }\n",
       "\n",
       "    .dataframe thead th {\n",
       "        text-align: right;\n",
       "    }\n",
       "</style>\n",
       "<table border=\"1\" class=\"dataframe\">\n",
       "  <thead>\n",
       "    <tr style=\"text-align: right;\">\n",
       "      <th></th>\n",
       "      <th>user_group</th>\n",
       "      <th>mse</th>\n",
       "      <th>ndcg</th>\n",
       "    </tr>\n",
       "  </thead>\n",
       "  <tbody>\n",
       "    <tr>\n",
       "      <th>0</th>\n",
       "      <td>less than 5</td>\n",
       "      <td>0.937871</td>\n",
       "      <td>0.971297</td>\n",
       "    </tr>\n",
       "    <tr>\n",
       "      <th>0</th>\n",
       "      <td>more than 5</td>\n",
       "      <td>0.731506</td>\n",
       "      <td>0.970494</td>\n",
       "    </tr>\n",
       "  </tbody>\n",
       "</table>\n",
       "</div>"
      ],
      "text/plain": [
       "    user_group       mse      ndcg\n",
       "0  less than 5  0.937871  0.971297\n",
       "0  more than 5  0.731506  0.970494"
      ]
     },
     "execution_count": 41,
     "metadata": {},
     "output_type": "execute_result"
    }
   ],
   "source": [
    "table_mf"
   ]
  },
  {
   "cell_type": "markdown",
   "metadata": {},
   "source": [
    "- The matrix factorization model perform much better in terms of mean square error on users that >= 5 rating records in the training set."
   ]
  },
  {
   "cell_type": "code",
   "execution_count": 21,
   "metadata": {},
   "outputs": [
    {
     "data": {
      "text/plain": [
       "count     1558.000000\n",
       "mean       192.955071\n",
       "std        802.411352\n",
       "min          1.000000\n",
       "25%          1.000000\n",
       "50%          4.500000\n",
       "75%         35.000000\n",
       "max      11271.000000\n",
       "Name: userId, dtype: float64"
      ]
     },
     "execution_count": 21,
     "metadata": {},
     "output_type": "execute_result"
    }
   ],
   "source": [
    "cnt=train.groupby('movieId').count()['userId']\n",
    "cnt.describe()\n",
    "# Show the distribution of movie rating records counts in the training set"
   ]
  },
  {
   "cell_type": "code",
   "execution_count": 30,
   "metadata": {},
   "outputs": [],
   "source": [
    "m_less_than_30=cnt[cnt<30].index.values\n",
    "m_more_than_30=cnt[cnt>=30].index.values\n",
    "m_df_pred_less_than_30_mf=df_pred_mf[df_pred_mf['movieId'].isin(m_less_than_5)]\n",
    "m_df_pred_more_than_30_mf=df_pred_mf[df_pred_mf['movieId'].isin(m_more_than_5)]\n",
    "\n",
    "m_table_mf=pd.DataFrame()\n",
    "mse,ndcg=evaluation_acc(m_df_pred_less_than_30_mf[\"actual_rating\"],m_df_pred_less_than_30_mf[\"prediction\"],m_df_pred_less_than_30_mf[\"label\"],m_df_pred_less_than_5_mf[\"label_predicted\"])\n",
    "m_table_mf=m_table_mf.append(pd.DataFrame(('less than 30',mse,ndcg),index=['user_group','mse','ndcg']).T)\n",
    "mse,ndcg=evaluation_acc(m_df_pred_more_than_30_mf[\"actual_rating\"],m_df_pred_more_than_30_mf[\"prediction\"],m_df_pred_more_than_30_mf[\"label\"],m_df_pred_more_than_5_mf[\"label_predicted\"])\n",
    "m_table_mf=m_table_mf.append(pd.DataFrame(('more than 30',mse,ndcg),index=['user_group','mse','ndcg']).T)\n"
   ]
  },
  {
   "cell_type": "code",
   "execution_count": 31,
   "metadata": {},
   "outputs": [
    {
     "data": {
      "text/html": [
       "<div>\n",
       "<style scoped>\n",
       "    .dataframe tbody tr th:only-of-type {\n",
       "        vertical-align: middle;\n",
       "    }\n",
       "\n",
       "    .dataframe tbody tr th {\n",
       "        vertical-align: top;\n",
       "    }\n",
       "\n",
       "    .dataframe thead th {\n",
       "        text-align: right;\n",
       "    }\n",
       "</style>\n",
       "<table border=\"1\" class=\"dataframe\">\n",
       "  <thead>\n",
       "    <tr style=\"text-align: right;\">\n",
       "      <th></th>\n",
       "      <th>user_group</th>\n",
       "      <th>mse</th>\n",
       "      <th>ndcg</th>\n",
       "    </tr>\n",
       "  </thead>\n",
       "  <tbody>\n",
       "    <tr>\n",
       "      <th>0</th>\n",
       "      <td>less than 30</td>\n",
       "      <td>1.06068</td>\n",
       "      <td>0.931572</td>\n",
       "    </tr>\n",
       "    <tr>\n",
       "      <th>0</th>\n",
       "      <td>more than 30</td>\n",
       "      <td>0.793915</td>\n",
       "      <td>0.972496</td>\n",
       "    </tr>\n",
       "  </tbody>\n",
       "</table>\n",
       "</div>"
      ],
      "text/plain": [
       "     user_group       mse      ndcg\n",
       "0  less than 30   1.06068  0.931572\n",
       "0  more than 30  0.793915  0.972496"
      ]
     },
     "execution_count": 31,
     "metadata": {},
     "output_type": "execute_result"
    }
   ],
   "source": [
    "m_table_mf"
   ]
  },
  {
   "cell_type": "markdown",
   "metadata": {},
   "source": [
    "- The matrix factorization model perform much better in terms of both mean square error and ndcg on movies that >= 30 rating records in the training set."
   ]
  },
  {
   "cell_type": "markdown",
   "metadata": {},
   "source": [
    "# 5. Layer 2: content-based model\n",
    "This layer would help rerank the candidates generated by the first layer.\n",
    "Input of the model:\n",
    "- movie features\n",
    "- user profile features\n",
    "\n",
    "xgboost regressor is used here.\n",
    "(have also tried deep learning model but running dl model with this size of data and features is beyond the capacity of my local machine. The code is also appended in the appendix.)"
   ]
  },
  {
   "cell_type": "markdown",
   "metadata": {},
   "source": [
    "### 5.1 Tune hyperparameters:\n",
    "- halflife\n",
    "- max_depth\n",
    "- min_child_weight"
   ]
  },
  {
   "cell_type": "code",
   "execution_count": 32,
   "metadata": {},
   "outputs": [],
   "source": [
    "def train_and_eval_xgb(train,valid,max_depth,min_child_weight,halflife):\n",
    "    from xgboost import XGBRegressor\n",
    "    model = XGBRegressor(max_depth=max_depth,\n",
    "                        learning_rate=0.01,\n",
    "                        n_estimators=500,\n",
    "                        silent=True,\n",
    "                        objective='reg:squarederror',\n",
    "                        gamma=0,\n",
    "                        min_child_weight=min_child_weight,\n",
    "                        subsample=0.85,\n",
    "                        colsample_bytree=0.7,\n",
    "                        colsample_bylevel=1,\n",
    "                        reg_alpha=0,\n",
    "                        reg_lambda=1,\n",
    "                        seed=43,\n",
    "                        missing=None)\n",
    "\n",
    "    model.fit(train[all_features_std],\n",
    "              train['rating'],\n",
    "               eval_set = [(valid[all_features_std],valid['rating'])],\n",
    "               early_stopping_rounds = 10,\n",
    "               verbose = 10)\n",
    "    \n",
    "    import pickle\n",
    "    filename = 'xgb'+str(max_depth)+str(min_child_weight)+str(halflife)+'.model'\n",
    "    pickle.dump(model, open(filename, 'wb'))\n",
    "    valid['prediction'] = model.predict(valid[all_features_std])\n",
    "    valid[\"label\"]=valid[\"rating\"].apply(lambda x:label(x))\n",
    "    valid[\"label_predicted\"]=valid[\"prediction\"].apply(lambda x:label(x))\n",
    "    mse,ndcg,auc=evaluation_acc(valid[\"rating\"],valid[\"prediction\"],valid[\"label\"],valid[\"label_predicted\"])\n",
    "    \n",
    "    return mse,ndcg,auc,filename,model\n",
    "    \n",
    "    \n",
    "    "
   ]
  },
  {
   "cell_type": "code",
   "execution_count": 33,
   "metadata": {},
   "outputs": [],
   "source": [
    "df_sub_lst=[df_sub_30,df_sub_90]\n",
    "halflife_lst=['30 days','90 days']\n",
    "max_depth=[8,7,6]\n",
    "min_child_weight=[1,2]\n",
    "\n",
    "rpt_xgb=pd.DataFrame()\n",
    "for i in range(len(halflife_lst)):\n",
    "    train,valid,test= build_crossvalidated_dataset(df_sub_lst[i],threshold=5)\n",
    "    for depth in max_depth:\n",
    "        for w in min_child_weight:\n",
    "            mse,ndcg,auc,filename,model=train_and_eval_xgb(train,valid,max_depth=depth,min_child_weight=w,halflife=halflife_lst[i])\n",
    "            dic={'model_name':filename,\n",
    "                \"halflife\":halflife_lst[i],\"depth\":depth,\n",
    "                 \"min_child_weight\":w,\n",
    "                 \"mse\":mse,'auc':auc,\"ndcg\":ndcg}\n",
    "            line=pd.DataFrame(dic,index=[0])\n",
    "            #display(line)\n",
    "            rpt_xgb=rpt_xgb.append(line)       "
   ]
  },
  {
   "cell_type": "code",
   "execution_count": 46,
   "metadata": {},
   "outputs": [
    {
     "data": {
      "text/html": [
       "<div>\n",
       "<style scoped>\n",
       "    .dataframe tbody tr th:only-of-type {\n",
       "        vertical-align: middle;\n",
       "    }\n",
       "\n",
       "    .dataframe tbody tr th {\n",
       "        vertical-align: top;\n",
       "    }\n",
       "\n",
       "    .dataframe thead th {\n",
       "        text-align: right;\n",
       "    }\n",
       "</style>\n",
       "<table border=\"1\" class=\"dataframe\">\n",
       "  <thead>\n",
       "    <tr style=\"text-align: right;\">\n",
       "      <th></th>\n",
       "      <th>model_name</th>\n",
       "      <th>halflife</th>\n",
       "      <th>depth</th>\n",
       "      <th>min_child_weight</th>\n",
       "      <th>mse</th>\n",
       "      <th>auc</th>\n",
       "      <th>ndcg</th>\n",
       "    </tr>\n",
       "  </thead>\n",
       "  <tbody>\n",
       "    <tr>\n",
       "      <th>0</th>\n",
       "      <td>xgb8290 days.model</td>\n",
       "      <td>90 days</td>\n",
       "      <td>8</td>\n",
       "      <td>2</td>\n",
       "      <td>0.804799</td>\n",
       "      <td>0.560613</td>\n",
       "      <td>0.965510</td>\n",
       "    </tr>\n",
       "    <tr>\n",
       "      <th>0</th>\n",
       "      <td>xgb8190 days.model</td>\n",
       "      <td>90 days</td>\n",
       "      <td>8</td>\n",
       "      <td>1</td>\n",
       "      <td>0.804931</td>\n",
       "      <td>0.560317</td>\n",
       "      <td>0.965460</td>\n",
       "    </tr>\n",
       "    <tr>\n",
       "      <th>0</th>\n",
       "      <td>xgb8230 days.model</td>\n",
       "      <td>30 days</td>\n",
       "      <td>8</td>\n",
       "      <td>2</td>\n",
       "      <td>0.806290</td>\n",
       "      <td>0.562203</td>\n",
       "      <td>0.966229</td>\n",
       "    </tr>\n",
       "    <tr>\n",
       "      <th>0</th>\n",
       "      <td>xgb8130 days.model</td>\n",
       "      <td>30 days</td>\n",
       "      <td>8</td>\n",
       "      <td>1</td>\n",
       "      <td>0.806349</td>\n",
       "      <td>0.562500</td>\n",
       "      <td>0.966168</td>\n",
       "    </tr>\n",
       "    <tr>\n",
       "      <th>0</th>\n",
       "      <td>xgb7190 days.model</td>\n",
       "      <td>90 days</td>\n",
       "      <td>7</td>\n",
       "      <td>1</td>\n",
       "      <td>0.812923</td>\n",
       "      <td>0.556500</td>\n",
       "      <td>0.964854</td>\n",
       "    </tr>\n",
       "    <tr>\n",
       "      <th>0</th>\n",
       "      <td>xgb7290 days.model</td>\n",
       "      <td>90 days</td>\n",
       "      <td>7</td>\n",
       "      <td>2</td>\n",
       "      <td>0.813104</td>\n",
       "      <td>0.556187</td>\n",
       "      <td>0.964827</td>\n",
       "    </tr>\n",
       "    <tr>\n",
       "      <th>0</th>\n",
       "      <td>xgb7130 days.model</td>\n",
       "      <td>30 days</td>\n",
       "      <td>7</td>\n",
       "      <td>1</td>\n",
       "      <td>0.814728</td>\n",
       "      <td>0.557216</td>\n",
       "      <td>0.965563</td>\n",
       "    </tr>\n",
       "    <tr>\n",
       "      <th>0</th>\n",
       "      <td>xgb7230 days.model</td>\n",
       "      <td>30 days</td>\n",
       "      <td>7</td>\n",
       "      <td>2</td>\n",
       "      <td>0.814774</td>\n",
       "      <td>0.557117</td>\n",
       "      <td>0.965552</td>\n",
       "    </tr>\n",
       "    <tr>\n",
       "      <th>0</th>\n",
       "      <td>xgb6290 days.model</td>\n",
       "      <td>90 days</td>\n",
       "      <td>6</td>\n",
       "      <td>2</td>\n",
       "      <td>0.819623</td>\n",
       "      <td>0.552449</td>\n",
       "      <td>0.964239</td>\n",
       "    </tr>\n",
       "    <tr>\n",
       "      <th>0</th>\n",
       "      <td>xgb6190 days.model</td>\n",
       "      <td>90 days</td>\n",
       "      <td>6</td>\n",
       "      <td>1</td>\n",
       "      <td>0.819639</td>\n",
       "      <td>0.552615</td>\n",
       "      <td>0.964238</td>\n",
       "    </tr>\n",
       "    <tr>\n",
       "      <th>0</th>\n",
       "      <td>xgb6130 days.model</td>\n",
       "      <td>30 days</td>\n",
       "      <td>6</td>\n",
       "      <td>1</td>\n",
       "      <td>0.821309</td>\n",
       "      <td>0.553627</td>\n",
       "      <td>0.964926</td>\n",
       "    </tr>\n",
       "    <tr>\n",
       "      <th>0</th>\n",
       "      <td>xgb6230 days.model</td>\n",
       "      <td>30 days</td>\n",
       "      <td>6</td>\n",
       "      <td>2</td>\n",
       "      <td>0.821350</td>\n",
       "      <td>0.553890</td>\n",
       "      <td>0.964926</td>\n",
       "    </tr>\n",
       "  </tbody>\n",
       "</table>\n",
       "</div>"
      ],
      "text/plain": [
       "           model_name halflife  depth  min_child_weight       mse       auc  \\\n",
       "0  xgb8290 days.model  90 days      8                 2  0.804799  0.560613   \n",
       "0  xgb8190 days.model  90 days      8                 1  0.804931  0.560317   \n",
       "0  xgb8230 days.model  30 days      8                 2  0.806290  0.562203   \n",
       "0  xgb8130 days.model  30 days      8                 1  0.806349  0.562500   \n",
       "0  xgb7190 days.model  90 days      7                 1  0.812923  0.556500   \n",
       "0  xgb7290 days.model  90 days      7                 2  0.813104  0.556187   \n",
       "0  xgb7130 days.model  30 days      7                 1  0.814728  0.557216   \n",
       "0  xgb7230 days.model  30 days      7                 2  0.814774  0.557117   \n",
       "0  xgb6290 days.model  90 days      6                 2  0.819623  0.552449   \n",
       "0  xgb6190 days.model  90 days      6                 1  0.819639  0.552615   \n",
       "0  xgb6130 days.model  30 days      6                 1  0.821309  0.553627   \n",
       "0  xgb6230 days.model  30 days      6                 2  0.821350  0.553890   \n",
       "\n",
       "       ndcg  \n",
       "0  0.965510  \n",
       "0  0.965460  \n",
       "0  0.966229  \n",
       "0  0.966168  \n",
       "0  0.964854  \n",
       "0  0.964827  \n",
       "0  0.965563  \n",
       "0  0.965552  \n",
       "0  0.964239  \n",
       "0  0.964238  \n",
       "0  0.964926  \n",
       "0  0.964926  "
      ]
     },
     "execution_count": 46,
     "metadata": {},
     "output_type": "execute_result"
    }
   ],
   "source": [
    "rpt_xgb.sort_values(by=\"mse\")   "
   ]
  },
  {
   "cell_type": "markdown",
   "metadata": {},
   "source": [
    "#### Therefore, the optimal hyperparameter combination for the content-based model is halflife=90 days, max_depth=8, min_child_weight=2. \n",
    "(please ignore the auc above, it is not accurate but rerun the process would take another day..)"
   ]
  },
  {
   "cell_type": "code",
   "execution_count": 34,
   "metadata": {},
   "outputs": [],
   "source": [
    "del df_sub_30\n",
    "gc.collect()"
   ]
  },
  {
   "cell_type": "code",
   "execution_count": 35,
   "metadata": {},
   "outputs": [],
   "source": [
    "# load trained model\n",
    "\n",
    "#xgb_model=pickle.load(open('xgb8290 days.model', 'rb'))\n",
    "#np.random.seed(43)\n",
    "#train,valid,test = build_crossvalidated_dataset(df_sub_90,threshold=5)"
   ]
  },
  {
   "cell_type": "markdown",
   "metadata": {},
   "source": [
    "## 5.2 Evaluate model performance on different user segments and different movies\n",
    "- Compare how the content-based model performs on users that have less rating history and users that have more rating history\n",
    "- Compare how the content-based model performs on movies that have less rating records and movies that have more rating records."
   ]
  },
  {
   "cell_type": "code",
   "execution_count": 36,
   "metadata": {},
   "outputs": [],
   "source": [
    "df_pred_xgb=valid.copy().rename(columns={\"rating\":\"actual_rating\"})\n",
    "df_pred_xgb['prediction']=xgb_model.predict(df_pred_xgb[all_features_std])\n",
    "df_pred_xgb[\"label\"]=df_pred_xgb[\"actual_rating\"].apply(lambda x:label(x))\n",
    "df_pred_xgb[\"label_predicted\"]=df_pred_xgb[\"prediction\"].apply(lambda x:label(x))"
   ]
  },
  {
   "cell_type": "code",
   "execution_count": 42,
   "metadata": {},
   "outputs": [],
   "source": [
    "df_pred_less_than_5_xgb=df_pred_xgb[df_pred_xgb['userId'].isin(less_than_5)]\n",
    "df_pred_more_than_5_xgb=df_pred_xgb[df_pred_xgb['userId'].isin(more_than_5)]"
   ]
  },
  {
   "cell_type": "code",
   "execution_count": 265,
   "metadata": {},
   "outputs": [
    {
     "data": {
      "text/html": [
       "<div>\n",
       "<style scoped>\n",
       "    .dataframe tbody tr th:only-of-type {\n",
       "        vertical-align: middle;\n",
       "    }\n",
       "\n",
       "    .dataframe tbody tr th {\n",
       "        vertical-align: top;\n",
       "    }\n",
       "\n",
       "    .dataframe thead th {\n",
       "        text-align: right;\n",
       "    }\n",
       "</style>\n",
       "<table border=\"1\" class=\"dataframe\">\n",
       "  <thead>\n",
       "    <tr style=\"text-align: right;\">\n",
       "      <th></th>\n",
       "      <th>user_group</th>\n",
       "      <th>mse</th>\n",
       "      <th>ndcg</th>\n",
       "    </tr>\n",
       "  </thead>\n",
       "  <tbody>\n",
       "    <tr>\n",
       "      <th>0</th>\n",
       "      <td>less than 5</td>\n",
       "      <td>0.872252</td>\n",
       "      <td>0.964964</td>\n",
       "    </tr>\n",
       "    <tr>\n",
       "      <th>0</th>\n",
       "      <td>more than 5</td>\n",
       "      <td>0.761919</td>\n",
       "      <td>0.963606</td>\n",
       "    </tr>\n",
       "  </tbody>\n",
       "</table>\n",
       "</div>"
      ],
      "text/plain": [
       "    user_group       mse      ndcg\n",
       "0  less than 5  0.872252  0.964964\n",
       "0  more than 5  0.761919  0.963606"
      ]
     },
     "execution_count": 265,
     "metadata": {},
     "output_type": "execute_result"
    }
   ],
   "source": [
    "table_xgb=pd.DataFrame()\n",
    "mse,ndcg=evaluation_acc(df_pred_less_than_5_xgb[\"actual_rating\"],df_pred_less_than_5_xgb[\"prediction\"],df_pred_less_than_5_xgb[\"label\"],df_pred_less_than_5_xgb[\"label_predicted\"])\n",
    "table_xgb=table_xgb.append(pd.DataFrame(('less than 5',mse,ndcg),index=['user_group','mse','ndcg']).T)\n",
    "mse,ndcg=evaluation_acc(df_pred_more_than_5_xgb[\"actual_rating\"],df_pred_more_than_5_xgb[\"prediction\"],df_pred_more_than_5_xgb[\"label\"],df_pred_more_than_5_xgb[\"label_predicted\"])\n",
    "table_xgb=table_xgb.append(pd.DataFrame(('more than 5',mse,ndcg),index=['user_group','mse','ndcg']).T)\n",
    "table_xgb"
   ]
  },
  {
   "cell_type": "code",
   "execution_count": 266,
   "metadata": {},
   "outputs": [
    {
     "data": {
      "text/html": [
       "<div>\n",
       "<style scoped>\n",
       "    .dataframe tbody tr th:only-of-type {\n",
       "        vertical-align: middle;\n",
       "    }\n",
       "\n",
       "    .dataframe tbody tr th {\n",
       "        vertical-align: top;\n",
       "    }\n",
       "\n",
       "    .dataframe thead th {\n",
       "        text-align: right;\n",
       "    }\n",
       "</style>\n",
       "<table border=\"1\" class=\"dataframe\">\n",
       "  <thead>\n",
       "    <tr style=\"text-align: right;\">\n",
       "      <th></th>\n",
       "      <th>user_group</th>\n",
       "      <th>mse</th>\n",
       "      <th>ndcg</th>\n",
       "    </tr>\n",
       "  </thead>\n",
       "  <tbody>\n",
       "    <tr>\n",
       "      <th>0</th>\n",
       "      <td>less than 5</td>\n",
       "      <td>0.937871</td>\n",
       "      <td>0.971297</td>\n",
       "    </tr>\n",
       "    <tr>\n",
       "      <th>0</th>\n",
       "      <td>more than 5</td>\n",
       "      <td>0.731506</td>\n",
       "      <td>0.970494</td>\n",
       "    </tr>\n",
       "  </tbody>\n",
       "</table>\n",
       "</div>"
      ],
      "text/plain": [
       "    user_group       mse      ndcg\n",
       "0  less than 5  0.937871  0.971297\n",
       "0  more than 5  0.731506  0.970494"
      ]
     },
     "execution_count": 266,
     "metadata": {},
     "output_type": "execute_result"
    }
   ],
   "source": [
    "table_mf"
   ]
  },
  {
   "cell_type": "markdown",
   "metadata": {},
   "source": [
    "Compare the collaborative filtering model with the content-based model:\n",
    "- the content-based model out-perform the collaborative filtering model in terms of mean square error on the user segment that has less than 5 rating history in the training set, but perform worse on the user segment that has more than 5 rating history."
   ]
  },
  {
   "cell_type": "code",
   "execution_count": 43,
   "metadata": {},
   "outputs": [],
   "source": [
    "m_df_pred_less_than_30_xgb=df_pred_xgb[df_pred_xgb['userId'].isin(m_less_than_30)]\n",
    "m_df_pred_more_than_30_xgb=df_pred_xgb[df_pred_xgb['userId'].isin(m_more_than_30)]"
   ]
  },
  {
   "cell_type": "code",
   "execution_count": 45,
   "metadata": {},
   "outputs": [
    {
     "data": {
      "text/html": [
       "<div>\n",
       "<style scoped>\n",
       "    .dataframe tbody tr th:only-of-type {\n",
       "        vertical-align: middle;\n",
       "    }\n",
       "\n",
       "    .dataframe tbody tr th {\n",
       "        vertical-align: top;\n",
       "    }\n",
       "\n",
       "    .dataframe thead th {\n",
       "        text-align: right;\n",
       "    }\n",
       "</style>\n",
       "<table border=\"1\" class=\"dataframe\">\n",
       "  <thead>\n",
       "    <tr style=\"text-align: right;\">\n",
       "      <th></th>\n",
       "      <th>user_group</th>\n",
       "      <th>mse</th>\n",
       "      <th>ndcg</th>\n",
       "    </tr>\n",
       "  </thead>\n",
       "  <tbody>\n",
       "    <tr>\n",
       "      <th>0</th>\n",
       "      <td>less than 30</td>\n",
       "      <td>0.874093</td>\n",
       "      <td>0.915996</td>\n",
       "    </tr>\n",
       "    <tr>\n",
       "      <th>0</th>\n",
       "      <td>more than 30</td>\n",
       "      <td>0.793566</td>\n",
       "      <td>0.928474</td>\n",
       "    </tr>\n",
       "  </tbody>\n",
       "</table>\n",
       "</div>"
      ],
      "text/plain": [
       "     user_group       mse      ndcg\n",
       "0  less than 30  0.874093  0.915996\n",
       "0  more than 30  0.793566  0.928474"
      ]
     },
     "execution_count": 45,
     "metadata": {},
     "output_type": "execute_result"
    }
   ],
   "source": [
    "m_table_xgb=pd.DataFrame()\n",
    "mse,ndcg=evaluation_acc(m_df_pred_less_than_30_xgb[\"actual_rating\"],m_df_pred_less_than_30_xgb[\"prediction\"],m_df_pred_less_than_30_xgb[\"label\"],m_df_pred_less_than_30_xgb[\"label_predicted\"])\n",
    "m_table_xgb=m_table_xgb.append(pd.DataFrame(('less than 30',mse,ndcg),index=['user_group','mse','ndcg']).T)\n",
    "mse,ndcg=evaluation_acc(m_df_pred_more_than_30_xgb[\"actual_rating\"],m_df_pred_more_than_30_xgb[\"prediction\"],m_df_pred_more_than_30_xgb[\"label\"],m_df_pred_more_than_30_xgb[\"label_predicted\"])\n",
    "m_table_xgb=m_table_xgb.append(pd.DataFrame(('more than 30',mse,ndcg),index=['user_group','mse','ndcg']).T)\n",
    "m_table_xgb"
   ]
  },
  {
   "cell_type": "code",
   "execution_count": 46,
   "metadata": {},
   "outputs": [
    {
     "data": {
      "text/html": [
       "<div>\n",
       "<style scoped>\n",
       "    .dataframe tbody tr th:only-of-type {\n",
       "        vertical-align: middle;\n",
       "    }\n",
       "\n",
       "    .dataframe tbody tr th {\n",
       "        vertical-align: top;\n",
       "    }\n",
       "\n",
       "    .dataframe thead th {\n",
       "        text-align: right;\n",
       "    }\n",
       "</style>\n",
       "<table border=\"1\" class=\"dataframe\">\n",
       "  <thead>\n",
       "    <tr style=\"text-align: right;\">\n",
       "      <th></th>\n",
       "      <th>user_group</th>\n",
       "      <th>mse</th>\n",
       "      <th>ndcg</th>\n",
       "    </tr>\n",
       "  </thead>\n",
       "  <tbody>\n",
       "    <tr>\n",
       "      <th>0</th>\n",
       "      <td>less than 30</td>\n",
       "      <td>1.06068</td>\n",
       "      <td>0.931572</td>\n",
       "    </tr>\n",
       "    <tr>\n",
       "      <th>0</th>\n",
       "      <td>more than 30</td>\n",
       "      <td>0.793915</td>\n",
       "      <td>0.972496</td>\n",
       "    </tr>\n",
       "  </tbody>\n",
       "</table>\n",
       "</div>"
      ],
      "text/plain": [
       "     user_group       mse      ndcg\n",
       "0  less than 30   1.06068  0.931572\n",
       "0  more than 30  0.793915  0.972496"
      ]
     },
     "execution_count": 46,
     "metadata": {},
     "output_type": "execute_result"
    }
   ],
   "source": [
    "m_table_mf"
   ]
  },
  {
   "cell_type": "markdown",
   "metadata": {},
   "source": [
    "Compare the collaborative filtering model with the content-based model:\n",
    "- the content-based model out-perform the collaborative filtering model in terms of mean square error on the movies that has less than 30 rating history in the training set. Perform equally on the movies that has more than 30 rating history.\n",
    "\n",
    "\n",
    "\n",
    "\n",
    "# 6. The hybrid model hyperparameter tuning and evaluation\n",
    "### 6.1 Hyperparameter tuning\n",
    "- Based on the results above, we consider to combine the prediction results of the two models. Because we are more concerned about the model performance on users, we will divide the users to 2 segments and try to find the best mix of the two models for each user segment."
   ]
  },
  {
   "cell_type": "code",
   "execution_count": 318,
   "metadata": {},
   "outputs": [],
   "source": [
    "from sklearn.metrics import mean_squared_error\n",
    "    \n",
    "### ensamble:\n",
    "xgb_weight=np.arange(11)/10\n",
    "ensamble_rpt=pd.DataFrame()\n",
    "for w in xgb_weight:\n",
    "    df_pred=df_pred_xgb.drop(columns=['actual_rating']).rename(columns={\"prediction\":\"prediction_xgb\"})\\\n",
    "                       .merge(df_pred_mf.rename(columns={\"prediction\":\"prediction_mf\"}),\n",
    "                               on=['userId','movieId'],how='inner')\n",
    "    df_pred['weighted_rating']=w*df_pred['prediction_xgb']+(1-w)*df_pred['prediction_mf']\n",
    "    mse_all=mean_squared_error(df_pred['actual_rating'],df_pred['weighted_rating'])\n",
    "    mse_less=mean_squared_error(df_pred[df_pred['userId'].isin(less_than_5)]['actual_rating'],df_pred[df_pred['userId'].isin(less_than_5)]['weighted_rating'])\n",
    "    mse_more=mean_squared_error(df_pred[df_pred['userId'].isin(more_than_5)]['actual_rating'],df_pred[df_pred['userId'].isin(more_than_5)]['weighted_rating'])\n",
    "    line={'xgb_weight':w,'all':mse_all,'less_than_5':mse_less,'more_than_5':mse_more}\n",
    "    line=pd.DataFrame(line,index=[0])\n",
    "    ensamble_rpt=ensamble_rpt.append(line)\n",
    "    \n",
    "    \n",
    "    "
   ]
  },
  {
   "cell_type": "code",
   "execution_count": 319,
   "metadata": {},
   "outputs": [
    {
     "data": {
      "text/html": [
       "<div>\n",
       "<style scoped>\n",
       "    .dataframe tbody tr th:only-of-type {\n",
       "        vertical-align: middle;\n",
       "    }\n",
       "\n",
       "    .dataframe tbody tr th {\n",
       "        vertical-align: top;\n",
       "    }\n",
       "\n",
       "    .dataframe thead th {\n",
       "        text-align: right;\n",
       "    }\n",
       "</style>\n",
       "<table border=\"1\" class=\"dataframe\">\n",
       "  <thead>\n",
       "    <tr style=\"text-align: right;\">\n",
       "      <th></th>\n",
       "      <th>xgb_weight</th>\n",
       "      <th>all</th>\n",
       "      <th>less_than_5</th>\n",
       "      <th>more_than_5</th>\n",
       "    </tr>\n",
       "  </thead>\n",
       "  <tbody>\n",
       "    <tr>\n",
       "      <th>0</th>\n",
       "      <td>0.0</td>\n",
       "      <td>0.798131</td>\n",
       "      <td>0.937871</td>\n",
       "      <td>0.731506</td>\n",
       "    </tr>\n",
       "    <tr>\n",
       "      <th>0</th>\n",
       "      <td>0.1</td>\n",
       "      <td>0.776113</td>\n",
       "      <td>0.897068</td>\n",
       "      <td>0.718444</td>\n",
       "    </tr>\n",
       "    <tr>\n",
       "      <th>0</th>\n",
       "      <td>0.2</td>\n",
       "      <td>0.758970</td>\n",
       "      <td>0.863872</td>\n",
       "      <td>0.708955</td>\n",
       "    </tr>\n",
       "    <tr>\n",
       "      <th>0</th>\n",
       "      <td>0.3</td>\n",
       "      <td>0.746703</td>\n",
       "      <td>0.838284</td>\n",
       "      <td>0.703038</td>\n",
       "    </tr>\n",
       "    <tr>\n",
       "      <th>0</th>\n",
       "      <td>0.4</td>\n",
       "      <td>0.739311</td>\n",
       "      <td>0.820304</td>\n",
       "      <td>0.700695</td>\n",
       "    </tr>\n",
       "    <tr>\n",
       "      <th>0</th>\n",
       "      <td>0.5</td>\n",
       "      <td>0.736794</td>\n",
       "      <td>0.809931</td>\n",
       "      <td>0.701924</td>\n",
       "    </tr>\n",
       "    <tr>\n",
       "      <th>0</th>\n",
       "      <td>0.6</td>\n",
       "      <td>0.739153</td>\n",
       "      <td>0.807166</td>\n",
       "      <td>0.706725</td>\n",
       "    </tr>\n",
       "    <tr>\n",
       "      <th>0</th>\n",
       "      <td>0.7</td>\n",
       "      <td>0.746387</td>\n",
       "      <td>0.812008</td>\n",
       "      <td>0.715100</td>\n",
       "    </tr>\n",
       "    <tr>\n",
       "      <th>0</th>\n",
       "      <td>0.8</td>\n",
       "      <td>0.758496</td>\n",
       "      <td>0.824458</td>\n",
       "      <td>0.727047</td>\n",
       "    </tr>\n",
       "    <tr>\n",
       "      <th>0</th>\n",
       "      <td>0.9</td>\n",
       "      <td>0.775481</td>\n",
       "      <td>0.844516</td>\n",
       "      <td>0.742567</td>\n",
       "    </tr>\n",
       "    <tr>\n",
       "      <th>0</th>\n",
       "      <td>1.0</td>\n",
       "      <td>0.797342</td>\n",
       "      <td>0.872181</td>\n",
       "      <td>0.761660</td>\n",
       "    </tr>\n",
       "  </tbody>\n",
       "</table>\n",
       "</div>"
      ],
      "text/plain": [
       "   xgb_weight       all  less_than_5  more_than_5\n",
       "0         0.0  0.798131     0.937871     0.731506\n",
       "0         0.1  0.776113     0.897068     0.718444\n",
       "0         0.2  0.758970     0.863872     0.708955\n",
       "0         0.3  0.746703     0.838284     0.703038\n",
       "0         0.4  0.739311     0.820304     0.700695\n",
       "0         0.5  0.736794     0.809931     0.701924\n",
       "0         0.6  0.739153     0.807166     0.706725\n",
       "0         0.7  0.746387     0.812008     0.715100\n",
       "0         0.8  0.758496     0.824458     0.727047\n",
       "0         0.9  0.775481     0.844516     0.742567\n",
       "0         1.0  0.797342     0.872181     0.761660"
      ]
     },
     "execution_count": 319,
     "metadata": {},
     "output_type": "execute_result"
    }
   ],
   "source": [
    "ensamble_rpt"
   ]
  },
  {
   "cell_type": "code",
   "execution_count": 362,
   "metadata": {},
   "outputs": [
    {
     "data": {
      "text/plain": [
       "Text(0.5, 1.0, 'Differnt weight of content-based model in the hybrid model and MSE')"
      ]
     },
     "execution_count": 362,
     "metadata": {},
     "output_type": "execute_result"
    },
    {
     "data": {
      "image/png": "[encoded data removed]",
      "text/plain": [
       "<Figure size 432x288 with 1 Axes>"
      ]
     },
     "metadata": {
      "needs_background": "light"
     },
     "output_type": "display_data"
    }
   ],
   "source": [
    "plt.plot(ensamble_rpt['xgb_weight'],ensamble_rpt['all'],label='all')\n",
    "plt.plot(ensamble_rpt['xgb_weight'],ensamble_rpt['less_than_5'],label='users with less than 5 recods')\n",
    "plt.plot(ensamble_rpt['xgb_weight'],ensamble_rpt['more_than_5'],label='users with >=5 recods')\n",
    "plt.legend()\n",
    "plt.xlabel('weight of the content-based model in the hybrid model')\n",
    "plt.ylabel('mean sqaure error of the hybrid model')\n",
    "plt.title('Differnt weight of content-based model in the hybrid model and MSE')"
   ]
  },
  {
   "cell_type": "markdown",
   "metadata": {},
   "source": [
    "If we use the weighted average of the predicted rating of the two models, the performance for both groups (<5 and >=5) would be improved. The table above also shows that:\n",
    "- for users that have less than 5 records in the training set, it is optimal to choose 0.6 as the weight for content-based model (xgb) and 0.4 for the collaborative filtering model.\n",
    "- for users that have more than 5 records in the training set, it is optimal to choose 0.4 as the weight for content-based model (xgb) and 0.6 for the collaborative filtering model."
   ]
  },
  {
   "cell_type": "code",
   "execution_count": 227,
   "metadata": {},
   "outputs": [],
   "source": [
    "mse_mf_rpt,ndcg_mf_rpt,df_pred_mf_rpt,_=train_and_eval_mf(train_sc,test_sc,rank=10,maxIter=5,regParam=0.2)"
   ]
  },
  {
   "cell_type": "code",
   "execution_count": 223,
   "metadata": {},
   "outputs": [],
   "source": [
    "def hybrid_predict(data):\n",
    "    rating_col=['userId', 'movieId', 'rating']\n",
    "    data_sc=spark.createDataFrame(test[rating_col].values.tolist(),rating_col)\n",
    "    mf_pred=mf_model.transform(data_sc).toPandas().rename(columns={\"rating\":\"actual_rating\",'prediction':'mf_prediction'})\n",
    "    data['xgb_prediction']=xgb_model.predict(data[all_features_std])\n",
    "    data=data.merge(mf_pred,on=['userId','movieId'],how='inner')\n",
    "    seg1=data[data['userId'].isin(less_than_5)]\n",
    "    seg1['prediction']=0.6*seg1['xgb_prediction']+0.4*seg1['mf_prediction']\n",
    "    seg2=data[data['userId'].isin(more_than_5)]\n",
    "    seg2['prediction']=0.4*seg2['xgb_prediction']+0.6*seg2['mf_prediction']\n",
    "    hybrid=pd.concat([seg1,seg2],axis=0)\n",
    "    return hybrid"
   ]
  },
  {
   "cell_type": "code",
   "execution_count": 225,
   "metadata": {},
   "outputs": [],
   "source": [
    "hybrid_pred=hybrid_predict(test)\n",
    "hybrid_pred[\"label\"]=hybrid_pred[\"actual_rating\"].apply(lambda x:label(x))\n",
    "hybrid_pred[\"label_predicted\"]=hybrid_pred[\"prediction\"].apply(lambda x:label(x))\n",
    "mse_hybrid,ndcg_hybrid=evaluation_acc(hybrid_pred[\"actual_rating\"],hybrid_pred[\"prediction\"],hybrid_pred[\"label\"],hybrid_pred[\"label_predicted\"])"
   ]
  },
  {
   "cell_type": "code",
   "execution_count": 226,
   "metadata": {},
   "outputs": [
    {
     "data": {
      "text/plain": [
       "(0.7440904555850237, 0.9724062764052196)"
      ]
     },
     "execution_count": 226,
     "metadata": {},
     "output_type": "execute_result"
    }
   ],
   "source": [
    "## The accuracy performance of the hybrid model on the test set\n",
    "mse_hybrid,ndcg_hybrid"
   ]
  },
  {
   "cell_type": "markdown",
   "metadata": {},
   "source": [
    "## 6.2 Evaluation:\n",
    "####  Compare with benchmarks (baseline model and simple collabrative filtering model) in terms of:\n",
    "- accuracy\n",
    "- coverage: In all the users' top 10, how many movies would be covered.\n",
    "- diversity: In each users' top 10, on average what proportion of genres would be covered.\n",
    "\n",
    "#####  Baseline: Predict the rating with the average rating of the movies in the training set."
   ]
  },
  {
   "cell_type": "markdown",
   "metadata": {},
   "source": [
    "### Baseline recommendation top 10"
   ]
  },
  {
   "cell_type": "code",
   "execution_count": 124,
   "metadata": {},
   "outputs": [],
   "source": [
    "#get the mean rating for each movie\n",
    "lookuptable=train.groupby(\"movieId\").mean()[[\"rating\"]].rename(columns={\"rating\":\"prediction\"})\n",
    "# get prediction for the test set based on the mean\n",
    "df_pred_bench=test.merge(lookuptable,on=[\"movieId\"],how=\"inner\")\n",
    "# evaluation:\n",
    "df_pred_bench[\"label\"]=df_pred_bench[\"rating\"].apply(lambda x:label(x))\n",
    "df_pred_bench[\"label_predicted\"]=df_pred_bench[\"prediction\"].apply(lambda x:label(x))\n",
    "mse_bench,ndcg_bench=evaluation_acc(df_pred_bench[\"rating\"],df_pred_bench[\"prediction\"],df_pred_bench[\"label\"],df_pred_bench[\"label_predicted\"])"
   ]
  },
  {
   "cell_type": "code",
   "execution_count": 204,
   "metadata": {},
   "outputs": [],
   "source": [
    "#the baseline model would recommend the movies with the highest average rating to all users.\n",
    "recommend_base=lookuptable.sort_values(by='prediction',ascending=False).iloc[:10].reset_index()\n",
    "recommend_base['userId']=0"
   ]
  },
  {
   "cell_type": "markdown",
   "metadata": {},
   "source": [
    "### Simple collabrative filtering recommendation top 10"
   ]
  },
  {
   "cell_type": "code",
   "execution_count": 167,
   "metadata": {},
   "outputs": [],
   "source": [
    "# simple collabrative filtering\n",
    "recommend=mf_model.recommendForAllUsers(10).toPandas()\n",
    "user_look_up_table=recommend.reset_index()[['index','userId']]\n",
    "recommend_cl=recommend['recommendations'].map(lambda x:list(map(lambda i:str(i['movieId'])+'&'+str(i['rating']),x))).explode().reset_index()\n",
    "recommend_cl[['movieId','prediction']]=recommend_cl['recommendations'].str.split('&',expand=True)\n",
    "recommend_cl['prediction']=recommend_cl['prediction'].astype(float)\n",
    "recommend_cl['movieId']=recommend_cl['movieId'].astype(int)\n",
    "recommend_cl=recommend_cl.merge(user_look_up_table,how='left',on='index')"
   ]
  },
  {
   "cell_type": "markdown",
   "metadata": {},
   "source": [
    "### Hybrid model recommendation top 10"
   ]
  },
  {
   "cell_type": "code",
   "execution_count": 150,
   "metadata": {},
   "outputs": [],
   "source": [
    "recommend=mf_model.recommendForAllUsers(30).toPandas()\n",
    "user_look_up_table=recommend.reset_index()[['index','userId']]\n",
    "recommend_hybrid=recommend['recommendations'].map(lambda x:list(map(lambda i:str(i['movieId'])+'&'+str(i['rating']),x))).explode().reset_index()\n",
    "recommend_hybrid[['movieId','prediction']]=recommend_hybrid['recommendations'].str.split('&',expand=True)\n",
    "recommend_hybrid['mf_prediction']=recommend_hybrid['mf_prediction'].astype(float)\n",
    "recommend_hybrid=recommend_hybrid.merge(user_look_up_table,how='left',on='index')"
   ]
  },
  {
   "cell_type": "code",
   "execution_count": 151,
   "metadata": {},
   "outputs": [],
   "source": [
    "u=[i for i in all_features_std if 'user' in i]\n",
    "u.append('userId')\n",
    "m=[i for i in all_features_std if not 'user' in i]\n",
    "m.append('movieId')\n",
    "\n",
    "movie_features_lookup=train.drop_duplicates(subset='movieId')[m]\n",
    "user_profiles_lookup=train.loc[train.groupby('userId').apply(lambda x: x['timestamp'].idxmax())][u]\n",
    "\n",
    "recommend_hybrid['movieId']=recommend_hybrid['movieId'].astype(int)\n",
    "recommend_hybrid=recommend_hybrid.merge(movie_features_lookup,on='movieId',how='left')\n",
    "recommend_hybrid=recommend_hybrid.merge(user_profiles_lookup,on='userId',how='left')\n",
    "recommend_hybrid=recommend_hybrid.rename(columns={'prediction':'mf_prediction'})"
   ]
  },
  {
   "cell_type": "code",
   "execution_count": 160,
   "metadata": {},
   "outputs": [],
   "source": [
    "recommend_hybrid['xgb_prediction']=xgb_model.predict(recommend_hybrid[all_features_std])\n",
    "seg1=recommend_hybrid[recommend_hybrid['userId'].isin(less_than_5)]\n",
    "seg1['prediction']=0.6*recommend_hybrid['xgb_prediction']+0.4*recommend_hybrid['mf_prediction']\n",
    "seg2=recommend_hybrid[recommend_hybrid['userId'].isin(more_than_5)]\n",
    "seg1['prediction']=0.4*recommend_hybrid['xgb_prediction']+0.6*recommend_hybrid['mf_prediction']\n",
    "recommend_hybrid=pd.concat([seg1,seg1],axis=0)"
   ]
  },
  {
   "cell_type": "code",
   "execution_count": 163,
   "metadata": {},
   "outputs": [],
   "source": [
    "recommend_hybrid['sort']=recommend_hybrid.groupby(\"userId\")['prediction'].rank(method='dense',ascending=False)\n",
    "recommend_hybrid=recommend_hybrid[recommend_hybrid['sort']<=10]"
   ]
  },
  {
   "cell_type": "markdown",
   "metadata": {},
   "source": [
    "###  Evaluate the performance of the models above:"
   ]
  },
  {
   "cell_type": "code",
   "execution_count": 238,
   "metadata": {},
   "outputs": [],
   "source": [
    "# diversity and coverage\n",
    "total_movie_cnt=movie_features.shape[0]\n",
    "def count_genres_covered(x):\n",
    "    if x>0:\n",
    "        return 1\n",
    "    else:\n",
    "        return 0\n",
    "    \n",
    "def evaluate_diversity_coverage(data):\n",
    "    data=data[['userId','movieId']].merge(movie_features,on='movieId',how='left')\n",
    "    coverage=data['movieId'].unique().shape[0]/total_movie_cnt\n",
    "    cnt=data.groupby('userId').sum()[genres_list]\n",
    "    for g in genres_list:\n",
    "        cnt[g]=cnt[g].apply(lambda x:count_genres_covered(x))\n",
    "    cnt['sum']=cnt[genres_list].sum(axis=1)\n",
    "    diversity=cnt['sum'].mean()/len(genres_list)\n",
    "    return coverage,diversity\n",
    "\n",
    "coverage_hybrid,diversity_hybrid=evaluate_diversity_coverage(recommend_hybrid)\n",
    "coverage_cl,diversity_cl=evaluate_diversity_coverage(recommend_cl)\n",
    "coverage_bench,diversity_bench=evaluate_diversity_coverage(recommend_base)"
   ]
  },
  {
   "cell_type": "code",
   "execution_count": 225,
   "metadata": {},
   "outputs": [],
   "source": [
    "# accuracy:\n",
    "def hybrid_predict(data):\n",
    "    rating_col=['userId', 'movieId', 'rating']\n",
    "    data_sc=spark.createDataFrame(test[rating_col].values.tolist(),rating_col)\n",
    "    mf_pred=mf_model.transform(data_sc).toPandas().rename(columns={\"rating\":\"actual_rating\",'prediction':'mf_prediction'})\n",
    "    data['xgb_prediction']=xgb_model.predict(data[all_features_std])\n",
    "    data=data.merge(mf_pred,on=['userId','movieId'],how='inner')\n",
    "    seg1=data[data['userId'].isin(less_than_5)]\n",
    "    seg1['prediction']=0.6*seg1['xgb_prediction']+0.4*seg1['mf_prediction']\n",
    "    seg2=data[data['userId'].isin(more_than_5)]\n",
    "    seg2['prediction']=0.4*seg2['xgb_prediction']+0.6*seg2['mf_prediction']\n",
    "    hybrid=pd.concat([seg1,seg2],axis=0)\n",
    "    return hybrid\n",
    "hybrid_pred=hybrid_predict(test)\n",
    "hybrid_pred[\"label\"]=hybrid_pred[\"actual_rating\"].apply(lambda x:label(x))\n",
    "hybrid_pred[\"label_predicted\"]=hybrid_pred[\"prediction\"].apply(lambda x:label(x))\n",
    "mse_hybrid,ndcg_hybrid=evaluation_acc(hybrid_pred[\"actual_rating\"],hybrid_pred[\"prediction\"],hybrid_pred[\"label\"],hybrid_pred[\"label_predicted\"])\n",
    "mse_mf_rpt,ndcg_mf_rpt,df_pred_mf_rpt,_=train_and_eval_mf(train_sc,test_sc,rank=10,maxIter=5,regParam=0.2)"
   ]
  },
  {
   "cell_type": "code",
   "execution_count": 243,
   "metadata": {},
   "outputs": [
    {
     "name": "stdout",
     "output_type": "stream",
     "text": [
      "model performance comparation\n"
     ]
    },
    {
     "data": {
      "text/html": [
       "<div>\n",
       "<style scoped>\n",
       "    .dataframe tbody tr th:only-of-type {\n",
       "        vertical-align: middle;\n",
       "    }\n",
       "\n",
       "    .dataframe tbody tr th {\n",
       "        vertical-align: top;\n",
       "    }\n",
       "\n",
       "    .dataframe thead th {\n",
       "        text-align: right;\n",
       "    }\n",
       "</style>\n",
       "<table border=\"1\" class=\"dataframe\">\n",
       "  <thead>\n",
       "    <tr style=\"text-align: right;\">\n",
       "      <th></th>\n",
       "      <th>mse</th>\n",
       "      <th>ndcg</th>\n",
       "      <th>covergae</th>\n",
       "      <th>diversity</th>\n",
       "    </tr>\n",
       "  </thead>\n",
       "  <tbody>\n",
       "    <tr>\n",
       "      <th>baseline</th>\n",
       "      <td>0.904628</td>\n",
       "      <td>0.957537</td>\n",
       "      <td>0.000172</td>\n",
       "      <td>0.277778</td>\n",
       "    </tr>\n",
       "    <tr>\n",
       "      <th>simple collaborative filtering</th>\n",
       "      <td>0.807785</td>\n",
       "      <td>0.971935</td>\n",
       "      <td>0.002840</td>\n",
       "      <td>0.489996</td>\n",
       "    </tr>\n",
       "    <tr>\n",
       "      <th>hybrid</th>\n",
       "      <td>0.744090</td>\n",
       "      <td>0.972406</td>\n",
       "      <td>0.003133</td>\n",
       "      <td>0.458330</td>\n",
       "    </tr>\n",
       "  </tbody>\n",
       "</table>\n",
       "</div>"
      ],
      "text/plain": [
       "                                     mse      ndcg  covergae  diversity\n",
       "baseline                        0.904628  0.957537  0.000172   0.277778\n",
       "simple collaborative filtering  0.807785  0.971935  0.002840   0.489996\n",
       "hybrid                          0.744090  0.972406  0.003133   0.458330"
      ]
     },
     "execution_count": 243,
     "metadata": {},
     "output_type": "execute_result"
    }
   ],
   "source": [
    "index=['mse','ndcg','covergae','diversity']\n",
    "rpt1=pd.DataFrame([mse_bench,ndcg_bench,coverage_bench,diversity_bench],columns=['baseline'],index=index)\n",
    "rpt2=pd.DataFrame([mse_mf_rpt,ndcg_mf_rpt,coverage_cl,diversity_cl],columns=['simple collaborative filtering'],index=index)\n",
    "rpt3=pd.DataFrame([mse_hybrid,ndcg_hybrid,coverage_hybrid,diversity_hybrid],columns=['hybrid'],index=index)\n",
    "print(\"model performance comparation:\")\n",
    "pd.concat([rpt1.T,rpt2.T,rpt3.T])"
   ]
  },
  {
   "cell_type": "markdown",
   "metadata": {},
   "source": [
    "- As the table above shows, the hybrid model perform significantly better compared with baseline model in all metrics, performs better than the simple collaborative filtering model in terms of mean square error, ndcg adn coverage, but worse in diversity. In the final recommendation system, we would adjust the results recommended by the hybrid model a bit. If certain genres appears more than 3 times in the top 10 recommendation list, we would multiply the predicted ratings of the movies of that genres a little bit."
   ]
  },
  {
   "cell_type": "markdown",
   "metadata": {},
   "source": [
    "###  6.3 Check ecosystem health\n",
    "-- whether certain genres get too few recommendations considering the number of movies they have."
   ]
  },
  {
   "cell_type": "code",
   "execution_count": 251,
   "metadata": {},
   "outputs": [],
   "source": [
    "all_recommended_movies=recommend_hybrid[['movieId']].merge(genres,on='movieId',how='left')\n",
    "genres_imp_fraction_rpt=pd.DataFrame()\n",
    "for g in genres_list:\n",
    "    fraction=all_recommended_movies[g].mean()\n",
    "    movies_genres_fraction=genres[g].mean()\n",
    "    line={'genres':g,'imp_fraction':fraction,'movies_fraction':movies_genres_fraction}\n",
    "    line=pd.DataFrame(line,index=[0])\n",
    "    genres_imp_fraction_rpt=genres_imp_fraction_rpt.append(line)\n",
    "    "
   ]
  },
  {
   "cell_type": "code",
   "execution_count": 252,
   "metadata": {
    "scrolled": true
   },
   "outputs": [
    {
     "data": {
      "text/html": [
       "<div>\n",
       "<style scoped>\n",
       "    .dataframe tbody tr th:only-of-type {\n",
       "        vertical-align: middle;\n",
       "    }\n",
       "\n",
       "    .dataframe tbody tr th {\n",
       "        vertical-align: top;\n",
       "    }\n",
       "\n",
       "    .dataframe thead th {\n",
       "        text-align: right;\n",
       "    }\n",
       "</style>\n",
       "<table border=\"1\" class=\"dataframe\">\n",
       "  <thead>\n",
       "    <tr style=\"text-align: right;\">\n",
       "      <th></th>\n",
       "      <th>genres</th>\n",
       "      <th>imp_fraction</th>\n",
       "      <th>movies_fraction</th>\n",
       "    </tr>\n",
       "  </thead>\n",
       "  <tbody>\n",
       "    <tr>\n",
       "      <th>0</th>\n",
       "      <td>Action</td>\n",
       "      <td>0.114837</td>\n",
       "      <td>0.122724</td>\n",
       "    </tr>\n",
       "    <tr>\n",
       "      <th>0</th>\n",
       "      <td>Adventure</td>\n",
       "      <td>0.172461</td>\n",
       "      <td>0.070002</td>\n",
       "    </tr>\n",
       "    <tr>\n",
       "      <th>0</th>\n",
       "      <td>Animation</td>\n",
       "      <td>0.087026</td>\n",
       "      <td>0.045836</td>\n",
       "    </tr>\n",
       "    <tr>\n",
       "      <th>0</th>\n",
       "      <td>Children</td>\n",
       "      <td>0.001802</td>\n",
       "      <td>0.047317</td>\n",
       "    </tr>\n",
       "    <tr>\n",
       "      <th>0</th>\n",
       "      <td>Comedy</td>\n",
       "      <td>0.252491</td>\n",
       "      <td>0.274639</td>\n",
       "    </tr>\n",
       "    <tr>\n",
       "      <th>0</th>\n",
       "      <td>Crime</td>\n",
       "      <td>0.036159</td>\n",
       "      <td>0.087869</td>\n",
       "    </tr>\n",
       "    <tr>\n",
       "      <th>0</th>\n",
       "      <td>Documentary</td>\n",
       "      <td>0.338284</td>\n",
       "      <td>0.088093</td>\n",
       "    </tr>\n",
       "    <tr>\n",
       "      <th>0</th>\n",
       "      <td>Drama</td>\n",
       "      <td>0.250954</td>\n",
       "      <td>0.415574</td>\n",
       "    </tr>\n",
       "    <tr>\n",
       "      <th>0</th>\n",
       "      <td>Fantasy</td>\n",
       "      <td>0.009500</td>\n",
       "      <td>0.045389</td>\n",
       "    </tr>\n",
       "    <tr>\n",
       "      <th>0</th>\n",
       "      <td>Film-Noir</td>\n",
       "      <td>0.001139</td>\n",
       "      <td>0.006265</td>\n",
       "    </tr>\n",
       "    <tr>\n",
       "      <th>0</th>\n",
       "      <td>Horror</td>\n",
       "      <td>0.014058</td>\n",
       "      <td>0.095614</td>\n",
       "    </tr>\n",
       "    <tr>\n",
       "      <th>0</th>\n",
       "      <td>Musical</td>\n",
       "      <td>0.005088</td>\n",
       "      <td>0.019157</td>\n",
       "    </tr>\n",
       "    <tr>\n",
       "      <th>0</th>\n",
       "      <td>Mystery</td>\n",
       "      <td>0.032476</td>\n",
       "      <td>0.047730</td>\n",
       "    </tr>\n",
       "    <tr>\n",
       "      <th>0</th>\n",
       "      <td>Romance</td>\n",
       "      <td>0.055093</td>\n",
       "      <td>0.127578</td>\n",
       "    </tr>\n",
       "    <tr>\n",
       "      <th>0</th>\n",
       "      <td>Sci-Fi</td>\n",
       "      <td>0.002239</td>\n",
       "      <td>0.059279</td>\n",
       "    </tr>\n",
       "    <tr>\n",
       "      <th>0</th>\n",
       "      <td>Thriller</td>\n",
       "      <td>0.075644</td>\n",
       "      <td>0.141416</td>\n",
       "    </tr>\n",
       "    <tr>\n",
       "      <th>0</th>\n",
       "      <td>War</td>\n",
       "      <td>0.085078</td>\n",
       "      <td>0.031326</td>\n",
       "    </tr>\n",
       "    <tr>\n",
       "      <th>0</th>\n",
       "      <td>Western</td>\n",
       "      <td>0.001060</td>\n",
       "      <td>0.023719</td>\n",
       "    </tr>\n",
       "  </tbody>\n",
       "</table>\n",
       "</div>"
      ],
      "text/plain": [
       "        genres  imp_fraction  movies_fraction\n",
       "0       Action      0.114837         0.122724\n",
       "0    Adventure      0.172461         0.070002\n",
       "0    Animation      0.087026         0.045836\n",
       "0     Children      0.001802         0.047317\n",
       "0       Comedy      0.252491         0.274639\n",
       "0        Crime      0.036159         0.087869\n",
       "0  Documentary      0.338284         0.088093\n",
       "0        Drama      0.250954         0.415574\n",
       "0      Fantasy      0.009500         0.045389\n",
       "0    Film-Noir      0.001139         0.006265\n",
       "0       Horror      0.014058         0.095614\n",
       "0      Musical      0.005088         0.019157\n",
       "0      Mystery      0.032476         0.047730\n",
       "0      Romance      0.055093         0.127578\n",
       "0       Sci-Fi      0.002239         0.059279\n",
       "0     Thriller      0.075644         0.141416\n",
       "0          War      0.085078         0.031326\n",
       "0      Western      0.001060         0.023719"
      ]
     },
     "execution_count": 252,
     "metadata": {},
     "output_type": "execute_result"
    }
   ],
   "source": [
    "genres_imp_fraction_rpt"
   ]
  },
  {
   "cell_type": "markdown",
   "metadata": {},
   "source": [
    "As the table shows, We should protect genres like Sci-Fi, Western, Horror,Film-Noir,Children, which get too few recommendations compared with the number of movies they have. In the final recommendation system, we should increase the weight of these genres a bit.\n",
    "\n",
    "#### The third layer of the model will contain the following rules:\n",
    "1. do not recommend the users with movies they have rated before\n",
    "2. If the user's initial recommendation list (by layer 1) contains movies in the protection genres but the they are not in the top 10 list, mutiply the predicted rating of those movies by 1.2\n",
    "3. If there are more than 3 movies in the users' recommendation list are of the same genre,mutiply the predicted rating of those movies (except for the top 3) by 0.9"
   ]
  },
  {
   "cell_type": "markdown",
   "metadata": {},
   "source": [
    "# 7.The complete recommendation system\n",
    "and example output"
   ]
  },
  {
   "cell_type": "code",
   "execution_count": 260,
   "metadata": {},
   "outputs": [],
   "source": [
    "import matplotlib.pyplot as plt\n",
    "import time\n",
    "import pandas as pd\n",
    "import numpy as np\n",
    "import pickle\n",
    "import warnings\n",
    "import gc\n",
    "from sklearn.preprocessing import StandardScaler\n",
    "from xgboost import XGBRegressor\n",
    "\n",
    "warnings.filterwarnings('ignore')\n",
    "np.random.seed(43)\n",
    "\n",
    "class recommend:\n",
    "    def __init__(self):\n",
    "        \n",
    "        self.data_path='ml-latest/'\n",
    "        \n",
    "        self.features=[]\n",
    "        self.genres_list=['Action','Adventure','Animation',\n",
    "                        'Children','Comedy','Crime',\n",
    "                        'Documentary','Drama','Fantasy','Film-Noir',\n",
    "                        'Horror','Musical','Mystery','Romance',\n",
    "                        'Sci-Fi','Thriller','War','Western']\n",
    "        \n",
    "        self.df=None #sampled data\n",
    "        self.movie_features=None\n",
    "        self.df_sub_with_user_profiles=None\n",
    "        \n",
    "        self.user_profile_features=[]\n",
    "        self.all_features=[]\n",
    "        self.genres_protection_list=['Sci-Fi','Western','Film-Noir','Children']\n",
    "        \n",
    "        \n",
    "    def load_data(self):\n",
    "        from sklearn.preprocessing import StandardScaler\n",
    "        from sklearn.decomposition import PCA,KernelPCA\n",
    "\n",
    "        rating=pd.read_csv(self.data_path+\"ratings.csv\")\n",
    "        \n",
    "        movie_tag=pd.read_csv(self.data_path+\"genome-scores.csv\")\n",
    "        movie_tag=movie_tag.pivot(index=\"movieId\", columns=\"tagId\",values=\"relevance\")\n",
    "\n",
    "        genres=pd.read_csv(self.data_path+\"movies.csv\")\n",
    "        for g in self.genres_list:\n",
    "            genres[g]=genres[\"genres\"].str.contains(g)*1\n",
    "            \n",
    "        x = movie_tag.copy()\n",
    "        x = StandardScaler().fit_transform(x)\n",
    "        pca = PCA(n_components=200)\n",
    "        principalComponents = pca.fit_transform(x)\n",
    "        movie_tags_pca=pd.DataFrame(principalComponents,index=movie_tag.index).reset_index()\n",
    "        movie_tags_pca.columns=[str(i) for i in movie_tags_pca.columns]\n",
    "        \n",
    "       \n",
    "        movie_features=genres\n",
    "        def extract_year(x):\n",
    "            x=x.rsplit('(',1)[-1].replace(')','').replace('2006–2007','2006')\n",
    "            try:\n",
    "                x=float(x)\n",
    "            except:\n",
    "                x=np.nan\n",
    "            return x\n",
    "\n",
    "        movie_features['year']=movie_features['title'].apply(lambda x:extract_year(x))\n",
    "        movie_features=movie_features.merge(movie_tags_pca,on='movieId',how='left')\n",
    "        self.movie_features=movie_features\n",
    "\n",
    "        np.random.seed(43)\n",
    "        df_sub = self.sample_dataset(rating,user_frac=0.35,item_frac=0.04,user_bar=6) \n",
    "        df_sub=df_sub.merge(movie_features,on='movieId',how='left')\n",
    "        df_sub.columns=[str(i) for i in df_sub.columns ]\n",
    " \n",
    "        features=self.genres_list.copy()\n",
    "        features.extend(list(np.arange(200)))\n",
    "        self.features=[str(i) for i in features]\n",
    "        \n",
    "        self.df=df_sub\n",
    "        \n",
    "        return df_sub\n",
    "        \n",
    "        \n",
    "    def sample_dataset(self,data,item_frac,user_frac,movie_bar=0,user_bar=0):\n",
    "        import random\n",
    "        u_cnt=data.groupby(\"movieId\").count()[\"userId\"].sample(frac=item_frac)\n",
    "        qualified_movies=u_cnt[u_cnt>=movie_bar].index.values\n",
    "        data=data[data.movieId.isin(qualified_movies)]\n",
    "\n",
    "        m_cnt=data.groupby(\"userId\").count()[\"movieId\"].sample(frac=user_frac)\n",
    "        qualified_users=m_cnt[m_cnt>=user_bar].index.values\n",
    "\n",
    "        sample=data[data.userId.isin(qualified_users)]\n",
    "        #print(\"unique users: \",len(qualified_users),\"unique movies: \",sample['movieId'].unique().shape[0])\n",
    "        return sample   \n",
    "    \n",
    "    def feature_engineering_for_layer2(self,df_sub):\n",
    "        \n",
    "        df_sub['rating_rescale']=df_sub['rating'].apply(lambda x:x-3.5)\n",
    "        user_profile_features=[str(i)+'_user' for i in self.features]\n",
    "        self.user_profile_features=user_profile_features\n",
    "\n",
    "        df_sub[user_profile_features]=df_sub[features].mul(df_sub['rating_rescale'],axis=\"index\")\n",
    "        user_genres_lst=[str(i)+'_user' for i in self.genres_list]\n",
    "\n",
    "        TFIDF_w_factors=1/movie_features[self.genres_list].sum()\n",
    "        \n",
    "        df_sub['rate_time']=pd.to_datetime(df_sub['timestamp'],unit='s')\n",
    "        \n",
    "        df_sub_with_user_profiles,df_u=self.construct_user_profile(df_sub,'90 days',TFIDF_w_factors)\n",
    "        \n",
    "        all_features=user_profile_features.copy()\n",
    "        all_features.extend([str(i) for i in features])\n",
    "        self.all_features=all_features\n",
    "        \n",
    "        self.df_sub_with_user_profiles=df_sub_with_user_profiles\n",
    "        \n",
    "        return df_sub_with_user_profiles,df_u\n",
    "        \n",
    "\n",
    "\n",
    "    def construct_user_profile(self,df,halflife_time,TFIDF_w_factors):\n",
    "        \n",
    "        emw_lst=self.user_profile_features.copy()\n",
    "        emw_lst.append('rate_time')\n",
    "        df_u=df[emw_lst].ewm(halflife=halflife_time,times='rate_time').mean().shift(1).fillna(0)\n",
    "        for g in self.genres_list:\n",
    "            df_u[g+'_user']=df_u[g+'_user']*TFIDF_w_factors[g]\n",
    "\n",
    "        df[self.user_profile_features]=df_u[self.user_profile_features]\n",
    "        return df,df_u\n",
    "\n",
    "        \n",
    "    def load_mf_model(self):\n",
    "        import pyspark\n",
    "        from pyspark.sql import SparkSession\n",
    "        spark = SparkSession.builder.appName(\"final\").getOrCreate()\n",
    "        from pyspark.ml.recommendation import ALSModel\n",
    "        mf_model=ALSModel.load('mf_model')\n",
    "        return mf_model\n",
    "    \n",
    "    def load_xgb_model(self):\n",
    "        import pickle\n",
    "        xgb_model=pickle.load(open('xgb8290 days.model', 'rb'))\n",
    "        return xgb_model\n",
    "    \n",
    "    def load_scaler(self):\n",
    "        import pickle\n",
    "        scaler=pickle.load(open('90 days_scaler', 'rb'))\n",
    "        return scaler\n",
    "    \n",
    "    def recommend_for_user(self,user_Id):\n",
    "        \n",
    "        ## layer 1: collabrative filtering model\n",
    "        mf_model=self.load_mf_model()\n",
    "        user_sub=spark.createDataFrame([[user_Id]], ['userId'])\n",
    "        user_subset_recs = mf_model.recommendForUserSubset(user_sub,30).toPandas()\n",
    "        mf_pred=pd.DataFrame(list(map(lambda x:(x['movieId'],x['rating']),user_subset_recs['recommendations'].values[0])),columns=['movieId','mf_prediction'])\n",
    "        \n",
    "        \n",
    "        ##layer 2:\n",
    "        \n",
    "            ##feature engineering\n",
    "        user_df=self.df[self.df['userId']==user_Id]\n",
    "        user_history_cnt=user_df.shape[0]\n",
    "        past_movie=user_df['movieId'].unique()\n",
    "        \n",
    "        user_df,df_u=self.feature_engineering_for_layer2(user_df)\n",
    "        \n",
    "        all_features_std=[str(i)+'_std' for i in self.all_features]\n",
    "        \n",
    "        user_df=user_df.loc[[user_df['timestamp'].idxmax()]][self.user_profile_features]\n",
    "        \n",
    "        movie_df=mf_pred.merge(self.movie_features,on='movieId',how='left')\n",
    "        user_df=pd.DataFrame(np.repeat(user_df.values,movie_df.shape[0],axis=0),columns=user_df.columns)\n",
    "        df=pd.concat([user_df,movie_df],axis=1)\n",
    "        \n",
    "        scaler=self.load_scaler()\n",
    "        x=scaler.transform(df[self.all_features].fillna(0))\n",
    "        df[all_features_std]=x\n",
    "        \n",
    "           ## prediction\n",
    "        xgb_model=self.load_xgb_model()\n",
    "        xgb_prediction=xgb_model.predict(df[all_features_std])\n",
    "        df['xgb_prediction']=xgb_prediction\n",
    "        \n",
    "        \n",
    "        if user_history_cnt<5:\n",
    "            df['weighted_prediction']=0.6*df['xgb_prediction']+0.4*df['mf_prediction']\n",
    "            df=df.sort_values(by='weighted_prediction',ascending=False)\n",
    "        else:\n",
    "            df['weighted_prediction']=0.4*df['xgb_prediction']+0.6*df['mf_prediction']\n",
    "            df=df.sort_values(by='weighted_prediction',ascending=False)\n",
    "        \n",
    "        df=df[['movieId','weighted_prediction']].merge(self.movie_features,on='movieId',how='left')\n",
    "        \n",
    "        ## Third layer: business rules\n",
    "        # 1. do not recommend the users with movies they have rated before\n",
    "        # 2. If the user's initial recommendation list (by layer 1) contains movies in the protection genres \n",
    "        #    but the they are not in the top 10 list, mutiply the predicted rating of those movies by 1.2\n",
    "        \n",
    "        # 3. If there are more than 3 movies in the users' recommendation list are of the same genre,\n",
    "        #    mutiply the predicted rating of those movies (except for the top 3) by 0.9\n",
    "        \n",
    "        \n",
    "        df=df[~df['movieId'].isin(list(past_movie))]\n",
    "        \n",
    "        for g in self.genres_protection_list:\n",
    "            if sum(df.iloc[:10][g])==0 and sum(df.iloc[:30][g])!=0:\n",
    "                df[df[g]==1]['weighted_prediction']=df[df[g]==1]['weighted_prediction']*1.2\n",
    "        for g in self.genres_list:\n",
    "            if sum(df.iloc[:10][g])>3:\n",
    "                df[df[g]==1].iloc[3:]['weighted_prediction']=df[df[g]==1].iloc[3:]['weighted_prediction']*0.9\n",
    "       \n",
    "        \n",
    "        \n",
    "        return df[['movieId','title','genres']].iloc[:10]\n",
    "        "
   ]
  },
  {
   "cell_type": "code",
   "execution_count": 262,
   "metadata": {},
   "outputs": [
    {
     "data": {
      "text/html": [
       "<div>\n",
       "<style scoped>\n",
       "    .dataframe tbody tr th:only-of-type {\n",
       "        vertical-align: middle;\n",
       "    }\n",
       "\n",
       "    .dataframe tbody tr th {\n",
       "        vertical-align: top;\n",
       "    }\n",
       "\n",
       "    .dataframe thead th {\n",
       "        text-align: right;\n",
       "    }\n",
       "</style>\n",
       "<table border=\"1\" class=\"dataframe\">\n",
       "  <thead>\n",
       "    <tr style=\"text-align: right;\">\n",
       "      <th></th>\n",
       "      <th>movieId</th>\n",
       "      <th>title</th>\n",
       "      <th>genres</th>\n",
       "    </tr>\n",
       "  </thead>\n",
       "  <tbody>\n",
       "    <tr>\n",
       "      <th>0</th>\n",
       "      <td>86495</td>\n",
       "      <td>Blind Mountain (Mang shan) (2007)</td>\n",
       "      <td>Drama</td>\n",
       "    </tr>\n",
       "    <tr>\n",
       "      <th>1</th>\n",
       "      <td>146323</td>\n",
       "      <td>Sharpe's Enemy (1994)</td>\n",
       "      <td>Action|Adventure|War</td>\n",
       "    </tr>\n",
       "    <tr>\n",
       "      <th>2</th>\n",
       "      <td>144208</td>\n",
       "      <td>Bicycle Dreams (2009)</td>\n",
       "      <td>Adventure|Documentary</td>\n",
       "    </tr>\n",
       "    <tr>\n",
       "      <th>3</th>\n",
       "      <td>133287</td>\n",
       "      <td>Kissinger (2011)</td>\n",
       "      <td>Documentary</td>\n",
       "    </tr>\n",
       "    <tr>\n",
       "      <th>4</th>\n",
       "      <td>173253</td>\n",
       "      <td>Vir Das: Abroad Understanding (2017)</td>\n",
       "      <td>Comedy</td>\n",
       "    </tr>\n",
       "    <tr>\n",
       "      <th>5</th>\n",
       "      <td>121378</td>\n",
       "      <td>His Way (2011)</td>\n",
       "      <td>Documentary</td>\n",
       "    </tr>\n",
       "    <tr>\n",
       "      <th>6</th>\n",
       "      <td>181759</td>\n",
       "      <td>Mutiny on the Buses (1972)</td>\n",
       "      <td>Comedy</td>\n",
       "    </tr>\n",
       "    <tr>\n",
       "      <th>7</th>\n",
       "      <td>171011</td>\n",
       "      <td>Planet Earth II (2016)</td>\n",
       "      <td>Documentary</td>\n",
       "    </tr>\n",
       "    <tr>\n",
       "      <th>8</th>\n",
       "      <td>96471</td>\n",
       "      <td>Prime Suspect 3 (1993)</td>\n",
       "      <td>Crime|Drama|Mystery</td>\n",
       "    </tr>\n",
       "    <tr>\n",
       "      <th>9</th>\n",
       "      <td>152543</td>\n",
       "      <td>Silver Tongues (2011)</td>\n",
       "      <td>Drama|Romance|Thriller</td>\n",
       "    </tr>\n",
       "  </tbody>\n",
       "</table>\n",
       "</div>"
      ],
      "text/plain": [
       "   movieId                                 title                  genres\n",
       "0    86495     Blind Mountain (Mang shan) (2007)                   Drama\n",
       "1   146323                 Sharpe's Enemy (1994)    Action|Adventure|War\n",
       "2   144208                 Bicycle Dreams (2009)   Adventure|Documentary\n",
       "3   133287                      Kissinger (2011)             Documentary\n",
       "4   173253  Vir Das: Abroad Understanding (2017)                  Comedy\n",
       "5   121378                        His Way (2011)             Documentary\n",
       "6   181759            Mutiny on the Buses (1972)                  Comedy\n",
       "7   171011                Planet Earth II (2016)             Documentary\n",
       "8    96471                Prime Suspect 3 (1993)     Crime|Drama|Mystery\n",
       "9   152543                 Silver Tongues (2011)  Drama|Romance|Thriller"
      ]
     },
     "execution_count": 262,
     "metadata": {},
     "output_type": "execute_result"
    }
   ],
   "source": [
    "# Example \n",
    "session=recommend()\n",
    "_=session.load_data()\n",
    "\n",
    "df=session.recommend_for_user(1051) # input: user Id; output: top 10 recommended movies\n",
    "df"
   ]
  },
  {
   "cell_type": "markdown",
   "metadata": {},
   "source": [
    "## 8. Summary and reflection\n",
    "\n",
    "The hybrid model above is composed of three layers:\n",
    "1st layer: Model-based collaborative filtering to generate initial candidates.\n",
    "2nd layer: Content-based model together with the predicted rating of the collaborative filtering model to rerank the candidates\n",
    "3rd layer: Other business rules including diversity and ecosystem heath adjustment.\n",
    "\n",
    "This system outperform the baseline model in all metrics: accuracy, diversity and coverage, and performs better than the simple collabrative filtering model in both accuracy and coverage.\n",
    "\n",
    "However, the content-based model itself does not outperform the simple collabrative filtering model very much. The reasons could be:\n",
    "\n",
    "1. No sufficient user profiles data. The current user profiles data is purely rely on their past rating behaviors on differnt genres and tags. If we could add more user features such as their demographic features, we might be able to get better performance.\n",
    "2. The movie tag features have a large proportion of missing values. Currently, these missing values are filled with 0.\n",
    "3. The limitation of local machine. Not able to perform large calculation. To reduce calculation load, the pca stage only keeps 77% of the variance and therefore lose a lot of infomation. In the latter model training stage we also have not explore more combination of the hyperparameters.\n"
   ]
  },
  {
   "cell_type": "code",
   "execution_count": null,
   "metadata": {},
   "outputs": [],
   "source": []
  }
 ],
 "metadata": {
  "kernelspec": {
   "display_name": "Python 3",
   "language": "python",
   "name": "python3"
  },
  "language_info": {
   "codemirror_mode": {
    "name": "ipython",
    "version": 3
   },
   "file_extension": ".py",
   "mimetype": "text/x-python",
   "name": "python",
   "nbconvert_exporter": "python",
   "pygments_lexer": "ipython3",
   "version": "3.7.7"
  }
 },
 "nbformat": 4,
 "nbformat_minor": 4
}
